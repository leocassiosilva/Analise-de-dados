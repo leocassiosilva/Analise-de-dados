{
  "nbformat": 4,
  "nbformat_minor": 0,
  "metadata": {
    "colab": {
      "name": "regressao_codigo.ipynb",
      "provenance": [],
      "collapsed_sections": [],
      "authorship_tag": "ABX9TyMXfo3L6GgPxg09EIFhm4OQ",
      "include_colab_link": true
    },
    "kernelspec": {
      "name": "python3",
      "display_name": "Python 3"
    },
    "language_info": {
      "name": "python"
    }
  },
  "cells": [
    {
      "cell_type": "markdown",
      "metadata": {
        "id": "view-in-github",
        "colab_type": "text"
      },
      "source": [
        "<a href=\"https://colab.research.google.com/github/leocassiosilva/Analise-de-dados/blob/main/regressao_codigo.ipynb\" target=\"_parent\"><img src=\"https://colab.research.google.com/assets/colab-badge.svg\" alt=\"Open In Colab\"/></a>"
      ]
    },
    {
      "cell_type": "code",
      "execution_count": 3,
      "metadata": {
        "id": "QVDAMdNcfUCm"
      },
      "outputs": [],
      "source": [
        "from google.colab import drive\n",
        "# Libs para analise gráficas\n",
        "import matplotlib.pyplot as plt\n",
        "#from celluloid import Camera\n",
        "from IPython.display import HTML\n",
        "import pandas as pd\n",
        "import numpy as np\n",
        "import time\n",
        "from sklearn.linear_model import LinearRegression # importa o modelo"
      ]
    },
    {
      "cell_type": "code",
      "source": [
        "drive.mount('/content/drive')"
      ],
      "metadata": {
        "colab": {
          "base_uri": "https://localhost:8080/"
        },
        "id": "ajC4Zw2xgGTH",
        "outputId": "4fefd711-57ee-40bd-a028-e2d3840ea5ee"
      },
      "execution_count": null,
      "outputs": [
        {
          "output_type": "stream",
          "name": "stdout",
          "text": [
            "Drive already mounted at /content/drive; to attempt to forcibly remount, call drive.mount(\"/content/drive\", force_remount=True).\n"
          ]
        }
      ]
    },
    {
      "cell_type": "code",
      "source": [
        "\n",
        "df = pd.read_excel(\"/content/drive/MyDrive/analise_dados/dados_atividade.xlsx\")\n"
      ],
      "metadata": {
        "id": "hMSEtblffg-o"
      },
      "execution_count": null,
      "outputs": []
    },
    {
      "cell_type": "code",
      "source": [
        "y=df['Modelo 1']#peguei os meus dados do modelo 1\n",
        "y=y.dropna()#tirei os valores nulos que existem"
      ],
      "metadata": {
        "id": "uMcMB694hxEP"
      },
      "execution_count": null,
      "outputs": []
    },
    {
      "cell_type": "code",
      "source": [
        "y.describe()"
      ],
      "metadata": {
        "colab": {
          "base_uri": "https://localhost:8080/"
        },
        "id": "N0VPk3jMh5kF",
        "outputId": "3932b58d-5f9d-4506-9fd0-7e31e74d53b5"
      },
      "execution_count": null,
      "outputs": [
        {
          "output_type": "execute_result",
          "data": {
            "text/plain": [
              "count    201.000000\n",
              "mean      15.230424\n",
              "std        5.933817\n",
              "min        4.403179\n",
              "25%       10.572324\n",
              "50%       15.052731\n",
              "75%       20.346050\n",
              "max       25.909128\n",
              "Name: Modelo 1, dtype: float64"
            ]
          },
          "metadata": {},
          "execution_count": 104
        }
      ]
    },
    {
      "cell_type": "code",
      "source": [
        "size = y.count()"
      ],
      "metadata": {
        "id": "z1d7D_e_iEnH"
      },
      "execution_count": null,
      "outputs": []
    },
    {
      "cell_type": "code",
      "source": [
        "def imprimirGrafico(x,y,a,b):\n",
        "  plt.scatter(x,y)\n",
        "  plt.plot(x,a*x+b,\"-\",color='red')\n",
        "  plt.grid(True)\n",
        "  plt.pause(0.05)\n",
        "  plt.cla()\n",
        "  "
      ],
      "metadata": {
        "id": "CIhsOny7frtX"
      },
      "execution_count": null,
      "outputs": []
    },
    {
      "cell_type": "code",
      "source": [
        "fig = plt.figure()\n",
        "camera = Camera(fig)"
      ],
      "metadata": {
        "colab": {
          "base_uri": "https://localhost:8080/",
          "height": 34
        },
        "id": "HrSCs7oGft9x",
        "outputId": "ad8250db-5c22-4410-dec6-1892d6e3c996"
      },
      "execution_count": null,
      "outputs": [
        {
          "output_type": "display_data",
          "data": {
            "text/plain": [
              "<Figure size 432x288 with 0 Axes>"
            ]
          },
          "metadata": {}
        }
      ]
    },
    {
      "cell_type": "code",
      "source": [
        "# Exemplo 01\n",
        "x = np.arange(0,size)\n",
        "a,b = 0,1\n",
        "passo = 0.00001 #Coeficiente de Aprendizado\n",
        "#passo = 0.001"
      ],
      "metadata": {
        "id": "V2kg8QfifzFc"
      },
      "execution_count": null,
      "outputs": []
    },
    {
      "cell_type": "code",
      "source": [
        "for i in range(0,size): # Gradiente estocático\n",
        "  e = y[i] - (a * x[i] + b)\n",
        "  dja = (e)*(-x[i])\n",
        "  djb = -e\n",
        "  a = a - passo * dja\n",
        "  b = b - passo * djb\n",
        "  imprimirGrafico(x,y,a,b)\n",
        "  print(\"A >: \",a, \"B >: \",b,\"E >: \",e)"
      ],
      "metadata": {
        "id": "3-LxEHC5f1uf"
      },
      "execution_count": null,
      "outputs": []
    },
    {
      "cell_type": "code",
      "source": [
        "# Exemplo 02\n",
        "\n",
        "#Normalização do dado - Etapa fundamental\n",
        "# x = np.linspace(0,1,size)\n",
        "# y = df['Dados']\n",
        "# y = y/max(y)\n",
        "# a,b = 1,1\n",
        "# passo = 0.1"
      ],
      "metadata": {
        "id": "qlEPpRXwWOT5"
      },
      "execution_count": null,
      "outputs": []
    },
    {
      "cell_type": "code",
      "source": [
        "# for i in range(0,200):\n",
        "# e = y[i] - (a * x[i] + b)\n",
        "# dja = (e)*(-x[i])\n",
        "# djb = -e\n",
        "# a = a - passo * dja\n",
        "# b = b - passo * djb\n",
        "# imprimirGrafico(x,y,a,b)\n",
        "# print(\"A >: \",a, \"B >: \",b,\"E >: \",e)"
      ],
      "metadata": {
        "id": "Yhm9PzLqWPeV"
      },
      "execution_count": null,
      "outputs": []
    },
    {
      "cell_type": "code",
      "source": [
        "# Exemplo 03\n",
        "\n",
        "# x = np.linspace(-1,1,size)\n",
        "# y = df['Dados']\n",
        "# a,b = 0,1\n",
        "# passo = 0.1"
      ],
      "metadata": {
        "id": "BoChFce9WRps"
      },
      "execution_count": null,
      "outputs": []
    },
    {
      "cell_type": "code",
      "source": [
        "# for _ in range(0,200):\n",
        "# i = int(np.random.rand()*df['Dados'].count()) #Aleatoriedade da entrada do dado / Generalização\n",
        "# e = y[i] - (a * x[i] + b)\n",
        "# dja = (e)*(-x[i])\n",
        "# djb = -e\n",
        "# a = a - passo * dja\n",
        "# b = b - passo * djb\n",
        "# imprimirGrafico(x,y,a,b)\n",
        "# print(\"A >: \",a, \"B >: \",b,\"E >: \",e)"
      ],
      "metadata": {
        "id": "AiVT_aaJWT-W"
      },
      "execution_count": null,
      "outputs": []
    },
    {
      "cell_type": "code",
      "source": [
        "# Exemplo 04\n",
        "\n",
        "# a0 = 2\n",
        "# b0 = 1\n",
        "# x = np.linspace(-1,1,size)\n",
        "# y = a0 * x + b0\n",
        "\n",
        "# y = y/max(y)\n",
        "\n",
        "# a,b = 0,0\n",
        "# passo = 0.1"
      ],
      "metadata": {
        "id": "zx7PNbFwWV63"
      },
      "execution_count": 2,
      "outputs": []
    },
    {
      "cell_type": "code",
      "source": [
        "# for _ in range(0,200):\n",
        "# i = int(np.random.rand()*df['Dados'].count())\n",
        "# e = y[i] - (a * x[i] + b)\n",
        "# dja = (e)*(-x[i])\n",
        "# djb = -e\n",
        "# a = a - passo * dja\n",
        "# b = b - passo * djb\n",
        "# imprimirGrafico(x,y,a,b)\n",
        "# print(\"A >: \",a, \"B >: \",b,\"E >: \",e)"
      ],
      "metadata": {
        "id": "0osAEJIuWdca"
      },
      "execution_count": null,
      "outputs": []
    }
  ]
}