{
  "nbformat": 4,
  "nbformat_minor": 0,
  "metadata": {
    "colab": {
      "name": "Atividade2.ipynb",
      "provenance": [],
      "collapsed_sections": [],
      "toc_visible": true,
      "authorship_tag": "ABX9TyOlYj+ey9ZpLxRiFJkDfqWP",
      "include_colab_link": true
    },
    "kernelspec": {
      "name": "python3",
      "display_name": "Python 3"
    },
    "language_info": {
      "name": "python"
    }
  },
  "cells": [
    {
      "cell_type": "markdown",
      "metadata": {
        "id": "view-in-github",
        "colab_type": "text"
      },
      "source": [
        "<a href=\"https://colab.research.google.com/github/leocassiosilva/Analise-de-dados/blob/main/Atividade2.ipynb\" target=\"_parent\"><img src=\"https://colab.research.google.com/assets/colab-badge.svg\" alt=\"Open In Colab\"/></a>"
      ]
    },
    {
      "cell_type": "markdown",
      "source": [
        "# Análise exploratória dos dados da covid"
      ],
      "metadata": {
        "id": "aCEJlQ3Zzs6y"
      }
    },
    {
      "cell_type": "markdown",
      "source": [
        "# Importações e Dados"
      ],
      "metadata": {
        "id": "zwGjfMpX0VOt"
      }
    },
    {
      "cell_type": "code",
      "metadata": {
        "id": "C2wCurH2AFAl"
      },
      "source": [
        "from google.colab import drive\n",
        "import pandas as pd\n",
        "import numpy as np\n",
        "import matplotlib.pyplot as plt"
      ],
      "execution_count": 1,
      "outputs": []
    },
    {
      "cell_type": "code",
      "source": [
        "drive.mount('/content/drive')"
      ],
      "metadata": {
        "colab": {
          "base_uri": "https://localhost:8080/"
        },
        "id": "Eqf2klRglVFG",
        "outputId": "5992ef3f-7809-4e3c-bb2f-e4f8fb99218c"
      },
      "execution_count": 2,
      "outputs": [
        {
          "output_type": "stream",
          "name": "stdout",
          "text": [
            "Mounted at /content/drive\n"
          ]
        }
      ]
    },
    {
      "cell_type": "code",
      "source": [
        "df = pd.read_csv('/content/drive/MyDrive/metodos_quantitativos/analise_dados_covid19/dataset.csv', engine='python')\n",
        "df.head()\n"
      ],
      "metadata": {
        "colab": {
          "base_uri": "https://localhost:8080/",
          "height": 360
        },
        "id": "kotJGWAyzwWs",
        "outputId": "9798e92b-be88-403e-c7c6-8df739eac19c"
      },
      "execution_count": 3,
      "outputs": [
        {
          "output_type": "execute_result",
          "data": {
            "text/html": [
              "<div>\n",
              "<style scoped>\n",
              "    .dataframe tbody tr th:only-of-type {\n",
              "        vertical-align: middle;\n",
              "    }\n",
              "\n",
              "    .dataframe tbody tr th {\n",
              "        vertical-align: top;\n",
              "    }\n",
              "\n",
              "    .dataframe thead th {\n",
              "        text-align: right;\n",
              "    }\n",
              "</style>\n",
              "<table border=\"1\" class=\"dataframe\">\n",
              "  <thead>\n",
              "    <tr style=\"text-align: right;\">\n",
              "      <th></th>\n",
              "      <th>Patient ID</th>\n",
              "      <th>Patient age quantile</th>\n",
              "      <th>SARS-Cov-2 exam result</th>\n",
              "      <th>Patient addmited to regular ward (1=yes, 0=no)</th>\n",
              "      <th>Patient addmited to semi-intensive unit (1=yes, 0=no)</th>\n",
              "      <th>Patient addmited to intensive care unit (1=yes, 0=no)</th>\n",
              "      <th>Hematocrit</th>\n",
              "      <th>Hemoglobin</th>\n",
              "      <th>Platelets</th>\n",
              "      <th>Mean platelet volume</th>\n",
              "      <th>Red blood Cells</th>\n",
              "      <th>Lymphocytes</th>\n",
              "      <th>Mean corpuscular hemoglobin concentration (MCHC)</th>\n",
              "      <th>Leukocytes</th>\n",
              "      <th>Basophils</th>\n",
              "      <th>Mean corpuscular hemoglobin (MCH)</th>\n",
              "      <th>Eosinophils</th>\n",
              "      <th>Mean corpuscular volume (MCV)</th>\n",
              "      <th>Monocytes</th>\n",
              "      <th>Red blood cell distribution width (RDW)</th>\n",
              "      <th>Serum Glucose</th>\n",
              "      <th>Respiratory Syncytial Virus</th>\n",
              "      <th>Influenza A</th>\n",
              "      <th>Influenza B</th>\n",
              "      <th>Parainfluenza 1</th>\n",
              "      <th>CoronavirusNL63</th>\n",
              "      <th>Rhinovirus/Enterovirus</th>\n",
              "      <th>Mycoplasma pneumoniae</th>\n",
              "      <th>Coronavirus HKU1</th>\n",
              "      <th>Parainfluenza 3</th>\n",
              "      <th>Chlamydophila pneumoniae</th>\n",
              "      <th>Adenovirus</th>\n",
              "      <th>Parainfluenza 4</th>\n",
              "      <th>Coronavirus229E</th>\n",
              "      <th>CoronavirusOC43</th>\n",
              "      <th>Inf A H1N1 2009</th>\n",
              "      <th>Bordetella pertussis</th>\n",
              "      <th>Metapneumovirus</th>\n",
              "      <th>Parainfluenza 2</th>\n",
              "      <th>Neutrophils</th>\n",
              "      <th>...</th>\n",
              "      <th>Urine - Esterase</th>\n",
              "      <th>Urine - Aspect</th>\n",
              "      <th>Urine - pH</th>\n",
              "      <th>Urine - Hemoglobin</th>\n",
              "      <th>Urine - Bile pigments</th>\n",
              "      <th>Urine - Ketone Bodies</th>\n",
              "      <th>Urine - Nitrite</th>\n",
              "      <th>Urine - Density</th>\n",
              "      <th>Urine - Urobilinogen</th>\n",
              "      <th>Urine - Protein</th>\n",
              "      <th>Urine - Sugar</th>\n",
              "      <th>Urine - Leukocytes</th>\n",
              "      <th>Urine - Crystals</th>\n",
              "      <th>Urine - Red blood cells</th>\n",
              "      <th>Urine - Hyaline cylinders</th>\n",
              "      <th>Urine - Granular cylinders</th>\n",
              "      <th>Urine - Yeasts</th>\n",
              "      <th>Urine - Color</th>\n",
              "      <th>Partial thromboplastin time (PTT)</th>\n",
              "      <th>Relationship (Patient/Normal)</th>\n",
              "      <th>International normalized ratio (INR)</th>\n",
              "      <th>Lactic Dehydrogenase</th>\n",
              "      <th>Prothrombin time (PT), Activity</th>\n",
              "      <th>Vitamin B12</th>\n",
              "      <th>Creatine phosphokinase (CPK)</th>\n",
              "      <th>Ferritin</th>\n",
              "      <th>Arterial Lactic Acid</th>\n",
              "      <th>Lipase dosage</th>\n",
              "      <th>D-Dimer</th>\n",
              "      <th>Albumin</th>\n",
              "      <th>Hb saturation (arterial blood gases)</th>\n",
              "      <th>pCO2 (arterial blood gas analysis)</th>\n",
              "      <th>Base excess (arterial blood gas analysis)</th>\n",
              "      <th>pH (arterial blood gas analysis)</th>\n",
              "      <th>Total CO2 (arterial blood gas analysis)</th>\n",
              "      <th>HCO3 (arterial blood gas analysis)</th>\n",
              "      <th>pO2 (arterial blood gas analysis)</th>\n",
              "      <th>Arteiral Fio2</th>\n",
              "      <th>Phosphor</th>\n",
              "      <th>ctO2 (arterial blood gas analysis)</th>\n",
              "    </tr>\n",
              "  </thead>\n",
              "  <tbody>\n",
              "    <tr>\n",
              "      <th>0</th>\n",
              "      <td>44477f75e8169d2</td>\n",
              "      <td>13</td>\n",
              "      <td>negative</td>\n",
              "      <td>0</td>\n",
              "      <td>0</td>\n",
              "      <td>0</td>\n",
              "      <td>NaN</td>\n",
              "      <td>NaN</td>\n",
              "      <td>NaN</td>\n",
              "      <td>NaN</td>\n",
              "      <td>NaN</td>\n",
              "      <td>NaN</td>\n",
              "      <td>NaN</td>\n",
              "      <td>NaN</td>\n",
              "      <td>NaN</td>\n",
              "      <td>NaN</td>\n",
              "      <td>NaN</td>\n",
              "      <td>NaN</td>\n",
              "      <td>NaN</td>\n",
              "      <td>NaN</td>\n",
              "      <td>NaN</td>\n",
              "      <td>NaN</td>\n",
              "      <td>NaN</td>\n",
              "      <td>NaN</td>\n",
              "      <td>NaN</td>\n",
              "      <td>NaN</td>\n",
              "      <td>NaN</td>\n",
              "      <td>NaN</td>\n",
              "      <td>NaN</td>\n",
              "      <td>NaN</td>\n",
              "      <td>NaN</td>\n",
              "      <td>NaN</td>\n",
              "      <td>NaN</td>\n",
              "      <td>NaN</td>\n",
              "      <td>NaN</td>\n",
              "      <td>NaN</td>\n",
              "      <td>NaN</td>\n",
              "      <td>NaN</td>\n",
              "      <td>NaN</td>\n",
              "      <td>NaN</td>\n",
              "      <td>...</td>\n",
              "      <td>NaN</td>\n",
              "      <td>NaN</td>\n",
              "      <td>NaN</td>\n",
              "      <td>NaN</td>\n",
              "      <td>NaN</td>\n",
              "      <td>NaN</td>\n",
              "      <td>NaN</td>\n",
              "      <td>NaN</td>\n",
              "      <td>NaN</td>\n",
              "      <td>NaN</td>\n",
              "      <td>NaN</td>\n",
              "      <td>NaN</td>\n",
              "      <td>NaN</td>\n",
              "      <td>NaN</td>\n",
              "      <td>NaN</td>\n",
              "      <td>NaN</td>\n",
              "      <td>NaN</td>\n",
              "      <td>NaN</td>\n",
              "      <td>NaN</td>\n",
              "      <td>NaN</td>\n",
              "      <td>NaN</td>\n",
              "      <td>NaN</td>\n",
              "      <td>NaN</td>\n",
              "      <td>NaN</td>\n",
              "      <td>NaN</td>\n",
              "      <td>NaN</td>\n",
              "      <td>NaN</td>\n",
              "      <td>NaN</td>\n",
              "      <td>NaN</td>\n",
              "      <td>NaN</td>\n",
              "      <td>NaN</td>\n",
              "      <td>NaN</td>\n",
              "      <td>NaN</td>\n",
              "      <td>NaN</td>\n",
              "      <td>NaN</td>\n",
              "      <td>NaN</td>\n",
              "      <td>NaN</td>\n",
              "      <td>NaN</td>\n",
              "      <td>NaN</td>\n",
              "      <td>NaN</td>\n",
              "    </tr>\n",
              "    <tr>\n",
              "      <th>1</th>\n",
              "      <td>126e9dd13932f68</td>\n",
              "      <td>17</td>\n",
              "      <td>negative</td>\n",
              "      <td>0</td>\n",
              "      <td>0</td>\n",
              "      <td>0</td>\n",
              "      <td>0.236515</td>\n",
              "      <td>-0.02234</td>\n",
              "      <td>-0.517413</td>\n",
              "      <td>0.010677</td>\n",
              "      <td>0.102004</td>\n",
              "      <td>0.318366</td>\n",
              "      <td>-0.95079</td>\n",
              "      <td>-0.09461</td>\n",
              "      <td>-0.223767</td>\n",
              "      <td>-0.292269</td>\n",
              "      <td>1.482158</td>\n",
              "      <td>0.166192</td>\n",
              "      <td>0.357547</td>\n",
              "      <td>-0.625073</td>\n",
              "      <td>-0.140648</td>\n",
              "      <td>not_detected</td>\n",
              "      <td>not_detected</td>\n",
              "      <td>not_detected</td>\n",
              "      <td>not_detected</td>\n",
              "      <td>not_detected</td>\n",
              "      <td>detected</td>\n",
              "      <td>NaN</td>\n",
              "      <td>not_detected</td>\n",
              "      <td>not_detected</td>\n",
              "      <td>not_detected</td>\n",
              "      <td>not_detected</td>\n",
              "      <td>not_detected</td>\n",
              "      <td>not_detected</td>\n",
              "      <td>not_detected</td>\n",
              "      <td>not_detected</td>\n",
              "      <td>not_detected</td>\n",
              "      <td>not_detected</td>\n",
              "      <td>not_detected</td>\n",
              "      <td>-0.619086</td>\n",
              "      <td>...</td>\n",
              "      <td>NaN</td>\n",
              "      <td>NaN</td>\n",
              "      <td>NaN</td>\n",
              "      <td>NaN</td>\n",
              "      <td>NaN</td>\n",
              "      <td>NaN</td>\n",
              "      <td>NaN</td>\n",
              "      <td>NaN</td>\n",
              "      <td>NaN</td>\n",
              "      <td>NaN</td>\n",
              "      <td>NaN</td>\n",
              "      <td>NaN</td>\n",
              "      <td>NaN</td>\n",
              "      <td>NaN</td>\n",
              "      <td>NaN</td>\n",
              "      <td>NaN</td>\n",
              "      <td>NaN</td>\n",
              "      <td>NaN</td>\n",
              "      <td>NaN</td>\n",
              "      <td>NaN</td>\n",
              "      <td>NaN</td>\n",
              "      <td>NaN</td>\n",
              "      <td>NaN</td>\n",
              "      <td>NaN</td>\n",
              "      <td>NaN</td>\n",
              "      <td>NaN</td>\n",
              "      <td>NaN</td>\n",
              "      <td>NaN</td>\n",
              "      <td>NaN</td>\n",
              "      <td>NaN</td>\n",
              "      <td>NaN</td>\n",
              "      <td>NaN</td>\n",
              "      <td>NaN</td>\n",
              "      <td>NaN</td>\n",
              "      <td>NaN</td>\n",
              "      <td>NaN</td>\n",
              "      <td>NaN</td>\n",
              "      <td>NaN</td>\n",
              "      <td>NaN</td>\n",
              "      <td>NaN</td>\n",
              "    </tr>\n",
              "    <tr>\n",
              "      <th>2</th>\n",
              "      <td>a46b4402a0e5696</td>\n",
              "      <td>8</td>\n",
              "      <td>negative</td>\n",
              "      <td>0</td>\n",
              "      <td>0</td>\n",
              "      <td>0</td>\n",
              "      <td>NaN</td>\n",
              "      <td>NaN</td>\n",
              "      <td>NaN</td>\n",
              "      <td>NaN</td>\n",
              "      <td>NaN</td>\n",
              "      <td>NaN</td>\n",
              "      <td>NaN</td>\n",
              "      <td>NaN</td>\n",
              "      <td>NaN</td>\n",
              "      <td>NaN</td>\n",
              "      <td>NaN</td>\n",
              "      <td>NaN</td>\n",
              "      <td>NaN</td>\n",
              "      <td>NaN</td>\n",
              "      <td>NaN</td>\n",
              "      <td>NaN</td>\n",
              "      <td>NaN</td>\n",
              "      <td>NaN</td>\n",
              "      <td>NaN</td>\n",
              "      <td>NaN</td>\n",
              "      <td>NaN</td>\n",
              "      <td>NaN</td>\n",
              "      <td>NaN</td>\n",
              "      <td>NaN</td>\n",
              "      <td>NaN</td>\n",
              "      <td>NaN</td>\n",
              "      <td>NaN</td>\n",
              "      <td>NaN</td>\n",
              "      <td>NaN</td>\n",
              "      <td>NaN</td>\n",
              "      <td>NaN</td>\n",
              "      <td>NaN</td>\n",
              "      <td>NaN</td>\n",
              "      <td>NaN</td>\n",
              "      <td>...</td>\n",
              "      <td>NaN</td>\n",
              "      <td>NaN</td>\n",
              "      <td>NaN</td>\n",
              "      <td>NaN</td>\n",
              "      <td>NaN</td>\n",
              "      <td>NaN</td>\n",
              "      <td>NaN</td>\n",
              "      <td>NaN</td>\n",
              "      <td>NaN</td>\n",
              "      <td>NaN</td>\n",
              "      <td>NaN</td>\n",
              "      <td>NaN</td>\n",
              "      <td>NaN</td>\n",
              "      <td>NaN</td>\n",
              "      <td>NaN</td>\n",
              "      <td>NaN</td>\n",
              "      <td>NaN</td>\n",
              "      <td>NaN</td>\n",
              "      <td>NaN</td>\n",
              "      <td>NaN</td>\n",
              "      <td>NaN</td>\n",
              "      <td>NaN</td>\n",
              "      <td>NaN</td>\n",
              "      <td>NaN</td>\n",
              "      <td>NaN</td>\n",
              "      <td>NaN</td>\n",
              "      <td>NaN</td>\n",
              "      <td>NaN</td>\n",
              "      <td>NaN</td>\n",
              "      <td>NaN</td>\n",
              "      <td>NaN</td>\n",
              "      <td>NaN</td>\n",
              "      <td>NaN</td>\n",
              "      <td>NaN</td>\n",
              "      <td>NaN</td>\n",
              "      <td>NaN</td>\n",
              "      <td>NaN</td>\n",
              "      <td>NaN</td>\n",
              "      <td>NaN</td>\n",
              "      <td>NaN</td>\n",
              "    </tr>\n",
              "    <tr>\n",
              "      <th>3</th>\n",
              "      <td>f7d619a94f97c45</td>\n",
              "      <td>5</td>\n",
              "      <td>negative</td>\n",
              "      <td>0</td>\n",
              "      <td>0</td>\n",
              "      <td>0</td>\n",
              "      <td>NaN</td>\n",
              "      <td>NaN</td>\n",
              "      <td>NaN</td>\n",
              "      <td>NaN</td>\n",
              "      <td>NaN</td>\n",
              "      <td>NaN</td>\n",
              "      <td>NaN</td>\n",
              "      <td>NaN</td>\n",
              "      <td>NaN</td>\n",
              "      <td>NaN</td>\n",
              "      <td>NaN</td>\n",
              "      <td>NaN</td>\n",
              "      <td>NaN</td>\n",
              "      <td>NaN</td>\n",
              "      <td>NaN</td>\n",
              "      <td>NaN</td>\n",
              "      <td>NaN</td>\n",
              "      <td>NaN</td>\n",
              "      <td>NaN</td>\n",
              "      <td>NaN</td>\n",
              "      <td>NaN</td>\n",
              "      <td>NaN</td>\n",
              "      <td>NaN</td>\n",
              "      <td>NaN</td>\n",
              "      <td>NaN</td>\n",
              "      <td>NaN</td>\n",
              "      <td>NaN</td>\n",
              "      <td>NaN</td>\n",
              "      <td>NaN</td>\n",
              "      <td>NaN</td>\n",
              "      <td>NaN</td>\n",
              "      <td>NaN</td>\n",
              "      <td>NaN</td>\n",
              "      <td>NaN</td>\n",
              "      <td>...</td>\n",
              "      <td>NaN</td>\n",
              "      <td>NaN</td>\n",
              "      <td>NaN</td>\n",
              "      <td>NaN</td>\n",
              "      <td>NaN</td>\n",
              "      <td>NaN</td>\n",
              "      <td>NaN</td>\n",
              "      <td>NaN</td>\n",
              "      <td>NaN</td>\n",
              "      <td>NaN</td>\n",
              "      <td>NaN</td>\n",
              "      <td>NaN</td>\n",
              "      <td>NaN</td>\n",
              "      <td>NaN</td>\n",
              "      <td>NaN</td>\n",
              "      <td>NaN</td>\n",
              "      <td>NaN</td>\n",
              "      <td>NaN</td>\n",
              "      <td>NaN</td>\n",
              "      <td>NaN</td>\n",
              "      <td>NaN</td>\n",
              "      <td>NaN</td>\n",
              "      <td>NaN</td>\n",
              "      <td>NaN</td>\n",
              "      <td>NaN</td>\n",
              "      <td>NaN</td>\n",
              "      <td>NaN</td>\n",
              "      <td>NaN</td>\n",
              "      <td>NaN</td>\n",
              "      <td>NaN</td>\n",
              "      <td>NaN</td>\n",
              "      <td>NaN</td>\n",
              "      <td>NaN</td>\n",
              "      <td>NaN</td>\n",
              "      <td>NaN</td>\n",
              "      <td>NaN</td>\n",
              "      <td>NaN</td>\n",
              "      <td>NaN</td>\n",
              "      <td>NaN</td>\n",
              "      <td>NaN</td>\n",
              "    </tr>\n",
              "    <tr>\n",
              "      <th>4</th>\n",
              "      <td>d9e41465789c2b5</td>\n",
              "      <td>15</td>\n",
              "      <td>negative</td>\n",
              "      <td>0</td>\n",
              "      <td>0</td>\n",
              "      <td>0</td>\n",
              "      <td>NaN</td>\n",
              "      <td>NaN</td>\n",
              "      <td>NaN</td>\n",
              "      <td>NaN</td>\n",
              "      <td>NaN</td>\n",
              "      <td>NaN</td>\n",
              "      <td>NaN</td>\n",
              "      <td>NaN</td>\n",
              "      <td>NaN</td>\n",
              "      <td>NaN</td>\n",
              "      <td>NaN</td>\n",
              "      <td>NaN</td>\n",
              "      <td>NaN</td>\n",
              "      <td>NaN</td>\n",
              "      <td>NaN</td>\n",
              "      <td>not_detected</td>\n",
              "      <td>not_detected</td>\n",
              "      <td>not_detected</td>\n",
              "      <td>not_detected</td>\n",
              "      <td>not_detected</td>\n",
              "      <td>detected</td>\n",
              "      <td>NaN</td>\n",
              "      <td>not_detected</td>\n",
              "      <td>not_detected</td>\n",
              "      <td>not_detected</td>\n",
              "      <td>not_detected</td>\n",
              "      <td>not_detected</td>\n",
              "      <td>not_detected</td>\n",
              "      <td>not_detected</td>\n",
              "      <td>not_detected</td>\n",
              "      <td>not_detected</td>\n",
              "      <td>not_detected</td>\n",
              "      <td>not_detected</td>\n",
              "      <td>NaN</td>\n",
              "      <td>...</td>\n",
              "      <td>NaN</td>\n",
              "      <td>NaN</td>\n",
              "      <td>NaN</td>\n",
              "      <td>NaN</td>\n",
              "      <td>NaN</td>\n",
              "      <td>NaN</td>\n",
              "      <td>NaN</td>\n",
              "      <td>NaN</td>\n",
              "      <td>NaN</td>\n",
              "      <td>NaN</td>\n",
              "      <td>NaN</td>\n",
              "      <td>NaN</td>\n",
              "      <td>NaN</td>\n",
              "      <td>NaN</td>\n",
              "      <td>NaN</td>\n",
              "      <td>NaN</td>\n",
              "      <td>NaN</td>\n",
              "      <td>NaN</td>\n",
              "      <td>NaN</td>\n",
              "      <td>NaN</td>\n",
              "      <td>NaN</td>\n",
              "      <td>NaN</td>\n",
              "      <td>NaN</td>\n",
              "      <td>NaN</td>\n",
              "      <td>NaN</td>\n",
              "      <td>NaN</td>\n",
              "      <td>NaN</td>\n",
              "      <td>NaN</td>\n",
              "      <td>NaN</td>\n",
              "      <td>NaN</td>\n",
              "      <td>NaN</td>\n",
              "      <td>NaN</td>\n",
              "      <td>NaN</td>\n",
              "      <td>NaN</td>\n",
              "      <td>NaN</td>\n",
              "      <td>NaN</td>\n",
              "      <td>NaN</td>\n",
              "      <td>NaN</td>\n",
              "      <td>NaN</td>\n",
              "      <td>NaN</td>\n",
              "    </tr>\n",
              "  </tbody>\n",
              "</table>\n",
              "<p>5 rows × 111 columns</p>\n",
              "</div>"
            ],
            "text/plain": [
              "        Patient ID  ...  ctO2 (arterial blood gas analysis)\n",
              "0  44477f75e8169d2  ...                                 NaN\n",
              "1  126e9dd13932f68  ...                                 NaN\n",
              "2  a46b4402a0e5696  ...                                 NaN\n",
              "3  f7d619a94f97c45  ...                                 NaN\n",
              "4  d9e41465789c2b5  ...                                 NaN\n",
              "\n",
              "[5 rows x 111 columns]"
            ]
          },
          "metadata": {},
          "execution_count": 3
        }
      ]
    },
    {
      "cell_type": "markdown",
      "source": [
        "# Tipos de dados"
      ],
      "metadata": {
        "id": "DhbJGMjp6MUU"
      }
    },
    {
      "cell_type": "code",
      "source": [
        "df.dtypes"
      ],
      "metadata": {
        "colab": {
          "base_uri": "https://localhost:8080/"
        },
        "id": "SGY7dIAe6vHM",
        "outputId": "3ace8d87-592a-48c8-f374-6d35d8334104"
      },
      "execution_count": 4,
      "outputs": [
        {
          "output_type": "execute_result",
          "data": {
            "text/plain": [
              "Patient ID                                                object\n",
              "Patient age quantile                                       int64\n",
              "SARS-Cov-2 exam result                                    object\n",
              "Patient addmited to regular ward (1=yes, 0=no)             int64\n",
              "Patient addmited to semi-intensive unit (1=yes, 0=no)      int64\n",
              "                                                          ...   \n",
              "HCO3 (arterial blood gas analysis)                       float64\n",
              "pO2 (arterial blood gas analysis)                        float64\n",
              "Arteiral Fio2                                            float64\n",
              "Phosphor                                                 float64\n",
              "ctO2 (arterial blood gas analysis)                       float64\n",
              "Length: 111, dtype: object"
            ]
          },
          "metadata": {},
          "execution_count": 4
        }
      ]
    },
    {
      "cell_type": "markdown",
      "source": [
        "# Exames SARS-covid-19\n"
      ],
      "metadata": {
        "id": "WbRksTpL63Do"
      }
    },
    {
      "cell_type": "code",
      "source": [
        "#informações referêntes aos exames do covid \n",
        "exame_result = df['SARS-Cov-2 exam result']\n",
        "exame_result"
      ],
      "metadata": {
        "id": "wsS8Pxmp68jP",
        "colab": {
          "base_uri": "https://localhost:8080/"
        },
        "outputId": "8b7be088-35da-4a88-f093-c83c9779f16f"
      },
      "execution_count": 5,
      "outputs": [
        {
          "output_type": "execute_result",
          "data": {
            "text/plain": [
              "0       negative\n",
              "1       negative\n",
              "2       negative\n",
              "3       negative\n",
              "4       negative\n",
              "          ...   \n",
              "5639    positive\n",
              "5640    negative\n",
              "5641    negative\n",
              "5642    negative\n",
              "5643    positive\n",
              "Name: SARS-Cov-2 exam result, Length: 5644, dtype: object"
            ]
          },
          "metadata": {},
          "execution_count": 5
        }
      ]
    },
    {
      "cell_type": "code",
      "source": [
        "#Qual a quantidade de exames e seu respectivo resultado? \n",
        "exameResult = exame_result.value_counts()\n",
        "exameResult"
      ],
      "metadata": {
        "colab": {
          "base_uri": "https://localhost:8080/"
        },
        "id": "uJMhazLX4-l-",
        "outputId": "ef1f525f-6ad5-4733-b2d7-f2e1b860cd05"
      },
      "execution_count": null,
      "outputs": [
        {
          "output_type": "execute_result",
          "data": {
            "text/plain": [
              "negative    5086\n",
              "positive     558\n",
              "Name: SARS-Cov-2 exam result, dtype: int64"
            ]
          },
          "metadata": {},
          "execution_count": 6
        }
      ]
    },
    {
      "cell_type": "code",
      "source": [
        "#Qual a porcentagem do resultado dos exames de SARS-Cov\n",
        "exameResult.plot(kind='pie', figsize=(5,5), autopct=\"%0.2f%%\", label='', title=\"Resultado dos exames\")\n"
      ],
      "metadata": {
        "colab": {
          "base_uri": "https://localhost:8080/",
          "height": 336
        },
        "id": "Yx1E4CEb6IKa",
        "outputId": "796ea705-ff99-4af6-9456-918dbad37592"
      },
      "execution_count": null,
      "outputs": [
        {
          "output_type": "execute_result",
          "data": {
            "text/plain": [
              "<matplotlib.axes._subplots.AxesSubplot at 0x7f8def617350>"
            ]
          },
          "metadata": {},
          "execution_count": 7
        },
        {
          "output_type": "display_data",
          "data": {
            "image/png": "[encoded data removed]",
            "text/plain": [
              "<Figure size 360x360 with 1 Axes>"
            ]
          },
          "metadata": {}
        }
      ]
    },
    {
      "cell_type": "code",
      "source": [
        "#Selecionando as colunas do resultado e de plaquetas\n",
        "colunasSelecionadas = ['SARS-Cov-2 exam result', 'Platelets']\n"
      ],
      "metadata": {
        "id": "H9GPWVUVrgs3"
      },
      "execution_count": null,
      "outputs": []
    },
    {
      "cell_type": "code",
      "source": [
        "#Fazendo a filtragem das colunas selecionadas\n",
        "microdadosCovidExame = df.filter(items=colunasSelecionadas)\n",
        "microdadosCovidExame.head()"
      ],
      "metadata": {
        "colab": {
          "base_uri": "https://localhost:8080/",
          "height": 206
        },
        "id": "9DyQdt3Cr2Z_",
        "outputId": "45cc2f2b-e2ea-439c-bc47-100712e5182a"
      },
      "execution_count": null,
      "outputs": [
        {
          "output_type": "execute_result",
          "data": {
            "text/html": [
              "<div>\n",
              "<style scoped>\n",
              "    .dataframe tbody tr th:only-of-type {\n",
              "        vertical-align: middle;\n",
              "    }\n",
              "\n",
              "    .dataframe tbody tr th {\n",
              "        vertical-align: top;\n",
              "    }\n",
              "\n",
              "    .dataframe thead th {\n",
              "        text-align: right;\n",
              "    }\n",
              "</style>\n",
              "<table border=\"1\" class=\"dataframe\">\n",
              "  <thead>\n",
              "    <tr style=\"text-align: right;\">\n",
              "      <th></th>\n",
              "      <th>SARS-Cov-2 exam result</th>\n",
              "      <th>Platelets</th>\n",
              "    </tr>\n",
              "  </thead>\n",
              "  <tbody>\n",
              "    <tr>\n",
              "      <th>0</th>\n",
              "      <td>negative</td>\n",
              "      <td>NaN</td>\n",
              "    </tr>\n",
              "    <tr>\n",
              "      <th>1</th>\n",
              "      <td>negative</td>\n",
              "      <td>-0.517413</td>\n",
              "    </tr>\n",
              "    <tr>\n",
              "      <th>2</th>\n",
              "      <td>negative</td>\n",
              "      <td>NaN</td>\n",
              "    </tr>\n",
              "    <tr>\n",
              "      <th>3</th>\n",
              "      <td>negative</td>\n",
              "      <td>NaN</td>\n",
              "    </tr>\n",
              "    <tr>\n",
              "      <th>4</th>\n",
              "      <td>negative</td>\n",
              "      <td>NaN</td>\n",
              "    </tr>\n",
              "  </tbody>\n",
              "</table>\n",
              "</div>"
            ],
            "text/plain": [
              "  SARS-Cov-2 exam result  Platelets\n",
              "0               negative        NaN\n",
              "1               negative  -0.517413\n",
              "2               negative        NaN\n",
              "3               negative        NaN\n",
              "4               negative        NaN"
            ]
          },
          "metadata": {},
          "execution_count": 9
        }
      ]
    },
    {
      "cell_type": "code",
      "source": [
        "#Retirando os dados Not-a-Number\n",
        "microdadosCovidExame = microdadosCovidExame.dropna()\n",
        "microdadosCovidExame[0:40]"
      ],
      "metadata": {
        "colab": {
          "base_uri": "https://localhost:8080/",
          "height": 1000
        },
        "id": "V7Fr9DSqsSN0",
        "outputId": "af6405d2-8e3c-4c54-ea58-290094cf0ada"
      },
      "execution_count": null,
      "outputs": [
        {
          "output_type": "execute_result",
          "data": {
            "text/html": [
              "<div>\n",
              "<style scoped>\n",
              "    .dataframe tbody tr th:only-of-type {\n",
              "        vertical-align: middle;\n",
              "    }\n",
              "\n",
              "    .dataframe tbody tr th {\n",
              "        vertical-align: top;\n",
              "    }\n",
              "\n",
              "    .dataframe thead th {\n",
              "        text-align: right;\n",
              "    }\n",
              "</style>\n",
              "<table border=\"1\" class=\"dataframe\">\n",
              "  <thead>\n",
              "    <tr style=\"text-align: right;\">\n",
              "      <th></th>\n",
              "      <th>SARS-Cov-2 exam result</th>\n",
              "      <th>Platelets</th>\n",
              "    </tr>\n",
              "  </thead>\n",
              "  <tbody>\n",
              "    <tr>\n",
              "      <th>1</th>\n",
              "      <td>negative</td>\n",
              "      <td>-0.517413</td>\n",
              "    </tr>\n",
              "    <tr>\n",
              "      <th>8</th>\n",
              "      <td>negative</td>\n",
              "      <td>1.429667</td>\n",
              "    </tr>\n",
              "    <tr>\n",
              "      <th>15</th>\n",
              "      <td>negative</td>\n",
              "      <td>-0.429480</td>\n",
              "    </tr>\n",
              "    <tr>\n",
              "      <th>18</th>\n",
              "      <td>negative</td>\n",
              "      <td>0.072992</td>\n",
              "    </tr>\n",
              "    <tr>\n",
              "      <th>22</th>\n",
              "      <td>negative</td>\n",
              "      <td>-0.668155</td>\n",
              "    </tr>\n",
              "    <tr>\n",
              "      <th>28</th>\n",
              "      <td>negative</td>\n",
              "      <td>-0.178244</td>\n",
              "    </tr>\n",
              "    <tr>\n",
              "      <th>29</th>\n",
              "      <td>negative</td>\n",
              "      <td>0.361914</td>\n",
              "    </tr>\n",
              "    <tr>\n",
              "      <th>30</th>\n",
              "      <td>negative</td>\n",
              "      <td>0.952319</td>\n",
              "    </tr>\n",
              "    <tr>\n",
              "      <th>32</th>\n",
              "      <td>negative</td>\n",
              "      <td>0.072992</td>\n",
              "    </tr>\n",
              "    <tr>\n",
              "      <th>34</th>\n",
              "      <td>negative</td>\n",
              "      <td>-0.278739</td>\n",
              "    </tr>\n",
              "    <tr>\n",
              "      <th>36</th>\n",
              "      <td>negative</td>\n",
              "      <td>1.429667</td>\n",
              "    </tr>\n",
              "    <tr>\n",
              "      <th>38</th>\n",
              "      <td>negative</td>\n",
              "      <td>0.600588</td>\n",
              "    </tr>\n",
              "    <tr>\n",
              "      <th>40</th>\n",
              "      <td>negative</td>\n",
              "      <td>0.399599</td>\n",
              "    </tr>\n",
              "    <tr>\n",
              "      <th>50</th>\n",
              "      <td>negative</td>\n",
              "      <td>-0.203368</td>\n",
              "    </tr>\n",
              "    <tr>\n",
              "      <th>51</th>\n",
              "      <td>negative</td>\n",
              "      <td>-0.278739</td>\n",
              "    </tr>\n",
              "    <tr>\n",
              "      <th>55</th>\n",
              "      <td>negative</td>\n",
              "      <td>-0.127997</td>\n",
              "    </tr>\n",
              "    <tr>\n",
              "      <th>56</th>\n",
              "      <td>negative</td>\n",
              "      <td>1.241240</td>\n",
              "    </tr>\n",
              "    <tr>\n",
              "      <th>59</th>\n",
              "      <td>negative</td>\n",
              "      <td>-1.057571</td>\n",
              "    </tr>\n",
              "    <tr>\n",
              "      <th>61</th>\n",
              "      <td>negative</td>\n",
              "      <td>0.160925</td>\n",
              "    </tr>\n",
              "    <tr>\n",
              "      <th>62</th>\n",
              "      <td>negative</td>\n",
              "      <td>-0.065188</td>\n",
              "    </tr>\n",
              "    <tr>\n",
              "      <th>71</th>\n",
              "      <td>negative</td>\n",
              "      <td>0.135801</td>\n",
              "    </tr>\n",
              "    <tr>\n",
              "      <th>73</th>\n",
              "      <td>negative</td>\n",
              "      <td>0.261419</td>\n",
              "    </tr>\n",
              "    <tr>\n",
              "      <th>78</th>\n",
              "      <td>negative</td>\n",
              "      <td>0.763892</td>\n",
              "    </tr>\n",
              "    <tr>\n",
              "      <th>84</th>\n",
              "      <td>negative</td>\n",
              "      <td>-0.391795</td>\n",
              "    </tr>\n",
              "    <tr>\n",
              "      <th>86</th>\n",
              "      <td>negative</td>\n",
              "      <td>0.952319</td>\n",
              "    </tr>\n",
              "    <tr>\n",
              "      <th>87</th>\n",
              "      <td>negative</td>\n",
              "      <td>-0.680717</td>\n",
              "    </tr>\n",
              "    <tr>\n",
              "      <th>88</th>\n",
              "      <td>negative</td>\n",
              "      <td>-0.454604</td>\n",
              "    </tr>\n",
              "    <tr>\n",
              "      <th>95</th>\n",
              "      <td>negative</td>\n",
              "      <td>-0.718402</td>\n",
              "    </tr>\n",
              "    <tr>\n",
              "      <th>105</th>\n",
              "      <td>negative</td>\n",
              "      <td>-0.542537</td>\n",
              "    </tr>\n",
              "    <tr>\n",
              "      <th>106</th>\n",
              "      <td>negative</td>\n",
              "      <td>0.500094</td>\n",
              "    </tr>\n",
              "    <tr>\n",
              "      <th>107</th>\n",
              "      <td>negative</td>\n",
              "      <td>0.273981</td>\n",
              "    </tr>\n",
              "    <tr>\n",
              "      <th>108</th>\n",
              "      <td>negative</td>\n",
              "      <td>-0.341548</td>\n",
              "    </tr>\n",
              "    <tr>\n",
              "      <th>110</th>\n",
              "      <td>negative</td>\n",
              "      <td>1.630656</td>\n",
              "    </tr>\n",
              "    <tr>\n",
              "      <th>111</th>\n",
              "      <td>negative</td>\n",
              "      <td>-0.668155</td>\n",
              "    </tr>\n",
              "    <tr>\n",
              "      <th>112</th>\n",
              "      <td>negative</td>\n",
              "      <td>-0.203368</td>\n",
              "    </tr>\n",
              "    <tr>\n",
              "      <th>115</th>\n",
              "      <td>negative</td>\n",
              "      <td>-0.404357</td>\n",
              "    </tr>\n",
              "    <tr>\n",
              "      <th>126</th>\n",
              "      <td>negative</td>\n",
              "      <td>0.173487</td>\n",
              "    </tr>\n",
              "    <tr>\n",
              "      <th>128</th>\n",
              "      <td>negative</td>\n",
              "      <td>-0.756087</td>\n",
              "    </tr>\n",
              "    <tr>\n",
              "      <th>133</th>\n",
              "      <td>negative</td>\n",
              "      <td>-0.354109</td>\n",
              "    </tr>\n",
              "    <tr>\n",
              "      <th>136</th>\n",
              "      <td>negative</td>\n",
              "      <td>-0.115435</td>\n",
              "    </tr>\n",
              "  </tbody>\n",
              "</table>\n",
              "</div>"
            ],
            "text/plain": [
              "    SARS-Cov-2 exam result  Platelets\n",
              "1                 negative  -0.517413\n",
              "8                 negative   1.429667\n",
              "15                negative  -0.429480\n",
              "18                negative   0.072992\n",
              "22                negative  -0.668155\n",
              "28                negative  -0.178244\n",
              "29                negative   0.361914\n",
              "30                negative   0.952319\n",
              "32                negative   0.072992\n",
              "34                negative  -0.278739\n",
              "36                negative   1.429667\n",
              "38                negative   0.600588\n",
              "40                negative   0.399599\n",
              "50                negative  -0.203368\n",
              "51                negative  -0.278739\n",
              "55                negative  -0.127997\n",
              "56                negative   1.241240\n",
              "59                negative  -1.057571\n",
              "61                negative   0.160925\n",
              "62                negative  -0.065188\n",
              "71                negative   0.135801\n",
              "73                negative   0.261419\n",
              "78                negative   0.763892\n",
              "84                negative  -0.391795\n",
              "86                negative   0.952319\n",
              "87                negative  -0.680717\n",
              "88                negative  -0.454604\n",
              "95                negative  -0.718402\n",
              "105               negative  -0.542537\n",
              "106               negative   0.500094\n",
              "107               negative   0.273981\n",
              "108               negative  -0.341548\n",
              "110               negative   1.630656\n",
              "111               negative  -0.668155\n",
              "112               negative  -0.203368\n",
              "115               negative  -0.404357\n",
              "126               negative   0.173487\n",
              "128               negative  -0.756087\n",
              "133               negative  -0.354109\n",
              "136               negative  -0.115435"
            ]
          },
          "metadata": {},
          "execution_count": 10
        }
      ]
    },
    {
      "cell_type": "code",
      "source": [
        "#Quantidade de exames positivos e negativos mediante a plaelets\n",
        "microdadosCovidExame.groupby('SARS-Cov-2 exam result').count()"
      ],
      "metadata": {
        "colab": {
          "base_uri": "https://localhost:8080/",
          "height": 143
        },
        "id": "RaKpjjEnwGcg",
        "outputId": "ee492468-1ca5-4f7b-d040-779a0400394d"
      },
      "execution_count": null,
      "outputs": [
        {
          "output_type": "execute_result",
          "data": {
            "text/html": [
              "<div>\n",
              "<style scoped>\n",
              "    .dataframe tbody tr th:only-of-type {\n",
              "        vertical-align: middle;\n",
              "    }\n",
              "\n",
              "    .dataframe tbody tr th {\n",
              "        vertical-align: top;\n",
              "    }\n",
              "\n",
              "    .dataframe thead th {\n",
              "        text-align: right;\n",
              "    }\n",
              "</style>\n",
              "<table border=\"1\" class=\"dataframe\">\n",
              "  <thead>\n",
              "    <tr style=\"text-align: right;\">\n",
              "      <th></th>\n",
              "      <th>Platelets</th>\n",
              "    </tr>\n",
              "    <tr>\n",
              "      <th>SARS-Cov-2 exam result</th>\n",
              "      <th></th>\n",
              "    </tr>\n",
              "  </thead>\n",
              "  <tbody>\n",
              "    <tr>\n",
              "      <th>negative</th>\n",
              "      <td>519</td>\n",
              "    </tr>\n",
              "    <tr>\n",
              "      <th>positive</th>\n",
              "      <td>83</td>\n",
              "    </tr>\n",
              "  </tbody>\n",
              "</table>\n",
              "</div>"
            ],
            "text/plain": [
              "                        Platelets\n",
              "SARS-Cov-2 exam result           \n",
              "negative                      519\n",
              "positive                       83"
            ]
          },
          "metadata": {},
          "execution_count": 12
        }
      ]
    },
    {
      "cell_type": "code",
      "source": [
        "#Valor maximo de plaelets\n",
        "microdadosCovidExame.groupby('SARS-Cov-2 exam result').max()"
      ],
      "metadata": {
        "colab": {
          "base_uri": "https://localhost:8080/",
          "height": 143
        },
        "id": "gKBmc7G0woqx",
        "outputId": "9912f12b-cc54-4ade-ec69-68c30886a93c"
      },
      "execution_count": null,
      "outputs": [
        {
          "output_type": "execute_result",
          "data": {
            "text/html": [
              "<div>\n",
              "<style scoped>\n",
              "    .dataframe tbody tr th:only-of-type {\n",
              "        vertical-align: middle;\n",
              "    }\n",
              "\n",
              "    .dataframe tbody tr th {\n",
              "        vertical-align: top;\n",
              "    }\n",
              "\n",
              "    .dataframe thead th {\n",
              "        text-align: right;\n",
              "    }\n",
              "</style>\n",
              "<table border=\"1\" class=\"dataframe\">\n",
              "  <thead>\n",
              "    <tr style=\"text-align: right;\">\n",
              "      <th></th>\n",
              "      <th>Platelets</th>\n",
              "    </tr>\n",
              "    <tr>\n",
              "      <th>SARS-Cov-2 exam result</th>\n",
              "      <th></th>\n",
              "    </tr>\n",
              "  </thead>\n",
              "  <tbody>\n",
              "    <tr>\n",
              "      <th>negative</th>\n",
              "      <td>9.532034</td>\n",
              "    </tr>\n",
              "    <tr>\n",
              "      <th>positive</th>\n",
              "      <td>1.756275</td>\n",
              "    </tr>\n",
              "  </tbody>\n",
              "</table>\n",
              "</div>"
            ],
            "text/plain": [
              "                        Platelets\n",
              "SARS-Cov-2 exam result           \n",
              "negative                 9.532034\n",
              "positive                 1.756275"
            ]
          },
          "metadata": {},
          "execution_count": 13
        }
      ]
    },
    {
      "cell_type": "code",
      "source": [
        "#Valor minimo de plaelets\n",
        "microdadosCovidExame.groupby('SARS-Cov-2 exam result').min()"
      ],
      "metadata": {
        "id": "RfaSM-MXwxuy",
        "outputId": "b58fba6a-e1a2-4cc3-c8e1-4387ee529239",
        "colab": {
          "base_uri": "https://localhost:8080/",
          "height": 143
        }
      },
      "execution_count": null,
      "outputs": [
        {
          "output_type": "execute_result",
          "data": {
            "text/html": [
              "<div>\n",
              "<style scoped>\n",
              "    .dataframe tbody tr th:only-of-type {\n",
              "        vertical-align: middle;\n",
              "    }\n",
              "\n",
              "    .dataframe tbody tr th {\n",
              "        vertical-align: top;\n",
              "    }\n",
              "\n",
              "    .dataframe thead th {\n",
              "        text-align: right;\n",
              "    }\n",
              "</style>\n",
              "<table border=\"1\" class=\"dataframe\">\n",
              "  <thead>\n",
              "    <tr style=\"text-align: right;\">\n",
              "      <th></th>\n",
              "      <th>Platelets</th>\n",
              "    </tr>\n",
              "    <tr>\n",
              "      <th>SARS-Cov-2 exam result</th>\n",
              "      <th></th>\n",
              "    </tr>\n",
              "  </thead>\n",
              "  <tbody>\n",
              "    <tr>\n",
              "      <th>negative</th>\n",
              "      <td>-2.552426</td>\n",
              "    </tr>\n",
              "    <tr>\n",
              "      <th>positive</th>\n",
              "      <td>-2.062515</td>\n",
              "    </tr>\n",
              "  </tbody>\n",
              "</table>\n",
              "</div>"
            ],
            "text/plain": [
              "                        Platelets\n",
              "SARS-Cov-2 exam result           \n",
              "negative                -2.552426\n",
              "positive                -2.062515"
            ]
          },
          "metadata": {},
          "execution_count": 14
        }
      ]
    },
    {
      "cell_type": "code",
      "source": [
        "#Histograma\n",
        "microdadosCovidExame.groupby('SARS-Cov-2 exam result').hist()"
      ],
      "metadata": {
        "colab": {
          "base_uri": "https://localhost:8080/",
          "height": 614
        },
        "id": "-Rg_m1JDDj5U",
        "outputId": "dfac7fab-1793-44bb-eb1e-23f8e253a217"
      },
      "execution_count": null,
      "outputs": [
        {
          "output_type": "execute_result",
          "data": {
            "text/plain": [
              "SARS-Cov-2 exam result\n",
              "negative    [[AxesSubplot(0.125,0.125;0.775x0.755)]]\n",
              "positive    [[AxesSubplot(0.125,0.125;0.775x0.755)]]\n",
              "dtype: object"
            ]
          },
          "metadata": {},
          "execution_count": 15
        },
        {
          "output_type": "display_data",
          "data": {
            "image/png": "[encoded data removed]",
            "text/plain": [
              "<Figure size 432x288 with 1 Axes>"
            ]
          },
          "metadata": {
            "needs_background": "light"
          }
        },
        {
          "output_type": "display_data",
          "data": {
            "image/png": "[encoded data removed]",
            "text/plain": [
              "<Figure size 432x288 with 1 Axes>"
            ]
          },
          "metadata": {
            "needs_background": "light"
          }
        }
      ]
    },
    {
      "cell_type": "code",
      "source": [
        "microdadosCovidExame.groupby('SARS-Cov-2 exam result').describe()"
      ],
      "metadata": {
        "colab": {
          "base_uri": "https://localhost:8080/",
          "height": 175
        },
        "id": "WLPQNeR7EXV9",
        "outputId": "8bd85fdf-efca-4a02-c212-5a2f45a47cdb"
      },
      "execution_count": null,
      "outputs": [
        {
          "output_type": "execute_result",
          "data": {
            "text/html": [
              "<div>\n",
              "<style scoped>\n",
              "    .dataframe tbody tr th:only-of-type {\n",
              "        vertical-align: middle;\n",
              "    }\n",
              "\n",
              "    .dataframe tbody tr th {\n",
              "        vertical-align: top;\n",
              "    }\n",
              "\n",
              "    .dataframe thead tr th {\n",
              "        text-align: left;\n",
              "    }\n",
              "\n",
              "    .dataframe thead tr:last-of-type th {\n",
              "        text-align: right;\n",
              "    }\n",
              "</style>\n",
              "<table border=\"1\" class=\"dataframe\">\n",
              "  <thead>\n",
              "    <tr>\n",
              "      <th></th>\n",
              "      <th colspan=\"8\" halign=\"left\">Platelets</th>\n",
              "    </tr>\n",
              "    <tr>\n",
              "      <th></th>\n",
              "      <th>count</th>\n",
              "      <th>mean</th>\n",
              "      <th>std</th>\n",
              "      <th>min</th>\n",
              "      <th>25%</th>\n",
              "      <th>50%</th>\n",
              "      <th>75%</th>\n",
              "      <th>max</th>\n",
              "    </tr>\n",
              "    <tr>\n",
              "      <th>SARS-Cov-2 exam result</th>\n",
              "      <th></th>\n",
              "      <th></th>\n",
              "      <th></th>\n",
              "      <th></th>\n",
              "      <th></th>\n",
              "      <th></th>\n",
              "      <th></th>\n",
              "      <th></th>\n",
              "    </tr>\n",
              "  </thead>\n",
              "  <tbody>\n",
              "    <tr>\n",
              "      <th>negative</th>\n",
              "      <td>519.0</td>\n",
              "      <td>0.11288</td>\n",
              "      <td>1.001574</td>\n",
              "      <td>-2.552426</td>\n",
              "      <td>-0.504851</td>\n",
              "      <td>0.022745</td>\n",
              "      <td>0.644554</td>\n",
              "      <td>9.532034</td>\n",
              "    </tr>\n",
              "    <tr>\n",
              "      <th>positive</th>\n",
              "      <td>83.0</td>\n",
              "      <td>-0.70584</td>\n",
              "      <td>0.647726</td>\n",
              "      <td>-2.062515</td>\n",
              "      <td>-1.095256</td>\n",
              "      <td>-0.718402</td>\n",
              "      <td>-0.335267</td>\n",
              "      <td>1.756275</td>\n",
              "    </tr>\n",
              "  </tbody>\n",
              "</table>\n",
              "</div>"
            ],
            "text/plain": [
              "                       Platelets           ...                    \n",
              "                           count     mean  ...       75%       max\n",
              "SARS-Cov-2 exam result                     ...                    \n",
              "negative                   519.0  0.11288  ...  0.644554  9.532034\n",
              "positive                    83.0 -0.70584  ... -0.335267  1.756275\n",
              "\n",
              "[2 rows x 8 columns]"
            ]
          },
          "metadata": {},
          "execution_count": 16
        }
      ]
    },
    {
      "cell_type": "code",
      "source": [
        "microdadosCovidExameResult = microdadosCovidExame.groupby('SARS-Cov-2 exam result').count().sort_values(by='Platelets')\n",
        "microdadosCovidExameResult"
      ],
      "metadata": {
        "colab": {
          "base_uri": "https://localhost:8080/",
          "height": 143
        },
        "id": "PV8orSScFq0U",
        "outputId": "3c04e2f7-46bf-49ca-9ae0-8f1dd1b95961"
      },
      "execution_count": null,
      "outputs": [
        {
          "output_type": "execute_result",
          "data": {
            "text/html": [
              "<div>\n",
              "<style scoped>\n",
              "    .dataframe tbody tr th:only-of-type {\n",
              "        vertical-align: middle;\n",
              "    }\n",
              "\n",
              "    .dataframe tbody tr th {\n",
              "        vertical-align: top;\n",
              "    }\n",
              "\n",
              "    .dataframe thead th {\n",
              "        text-align: right;\n",
              "    }\n",
              "</style>\n",
              "<table border=\"1\" class=\"dataframe\">\n",
              "  <thead>\n",
              "    <tr style=\"text-align: right;\">\n",
              "      <th></th>\n",
              "      <th>Platelets</th>\n",
              "    </tr>\n",
              "    <tr>\n",
              "      <th>SARS-Cov-2 exam result</th>\n",
              "      <th></th>\n",
              "    </tr>\n",
              "  </thead>\n",
              "  <tbody>\n",
              "    <tr>\n",
              "      <th>positive</th>\n",
              "      <td>83</td>\n",
              "    </tr>\n",
              "    <tr>\n",
              "      <th>negative</th>\n",
              "      <td>519</td>\n",
              "    </tr>\n",
              "  </tbody>\n",
              "</table>\n",
              "</div>"
            ],
            "text/plain": [
              "                        Platelets\n",
              "SARS-Cov-2 exam result           \n",
              "positive                       83\n",
              "negative                      519"
            ]
          },
          "metadata": {},
          "execution_count": 17
        }
      ]
    },
    {
      "cell_type": "code",
      "source": [
        "#Qual a porcentagem de platelts ? \n",
        "microdadosCovidExameResult['Platelets'].plot(kind='pie', figsize=(5,5), autopct=\"%0.2f%%\", title=\"Resultado dos exames - Plaquetas\")"
      ],
      "metadata": {
        "colab": {
          "base_uri": "https://localhost:8080/",
          "height": 336
        },
        "id": "GGMUSar_Pefs",
        "outputId": "861766ad-9066-452f-97c5-cd3ecb379b47"
      },
      "execution_count": null,
      "outputs": [
        {
          "output_type": "execute_result",
          "data": {
            "text/plain": [
              "<matplotlib.axes._subplots.AxesSubplot at 0x7f8def5f5bd0>"
            ]
          },
          "metadata": {},
          "execution_count": 19
        },
        {
          "output_type": "display_data",
          "data": {
            "image/png": "[encoded data removed]",
            "text/plain": [
              "<Figure size 360x360 with 1 Axes>"
            ]
          },
          "metadata": {}
        }
      ]
    },
    {
      "cell_type": "code",
      "source": [
        "microdadosCovidExameResult.dtypes"
      ],
      "metadata": {
        "colab": {
          "base_uri": "https://localhost:8080/"
        },
        "id": "jfDvlqbDKmeT",
        "outputId": "8f8113d0-944f-44c9-fa81-da1511253baf"
      },
      "execution_count": null,
      "outputs": [
        {
          "output_type": "execute_result",
          "data": {
            "text/plain": [
              "Platelets    int64\n",
              "dtype: object"
            ]
          },
          "metadata": {},
          "execution_count": 20
        }
      ]
    },
    {
      "cell_type": "code",
      "source": [
        "#Remoção dos valores ausentes.\n",
        "microdadosCovidExame = microdadosCovidExame.dropna()\n",
        "microdadosCovidExame"
      ],
      "metadata": {
        "colab": {
          "base_uri": "https://localhost:8080/",
          "height": 424
        },
        "id": "wB2OIJCgB-1a",
        "outputId": "7a1d58a2-f175-4dab-dd26-d482ba380099"
      },
      "execution_count": null,
      "outputs": [
        {
          "output_type": "execute_result",
          "data": {
            "text/html": [
              "<div>\n",
              "<style scoped>\n",
              "    .dataframe tbody tr th:only-of-type {\n",
              "        vertical-align: middle;\n",
              "    }\n",
              "\n",
              "    .dataframe tbody tr th {\n",
              "        vertical-align: top;\n",
              "    }\n",
              "\n",
              "    .dataframe thead th {\n",
              "        text-align: right;\n",
              "    }\n",
              "</style>\n",
              "<table border=\"1\" class=\"dataframe\">\n",
              "  <thead>\n",
              "    <tr style=\"text-align: right;\">\n",
              "      <th></th>\n",
              "      <th>SARS-Cov-2 exam result</th>\n",
              "      <th>Platelets</th>\n",
              "    </tr>\n",
              "  </thead>\n",
              "  <tbody>\n",
              "    <tr>\n",
              "      <th>1</th>\n",
              "      <td>negative</td>\n",
              "      <td>-0.517413</td>\n",
              "    </tr>\n",
              "    <tr>\n",
              "      <th>8</th>\n",
              "      <td>negative</td>\n",
              "      <td>1.429667</td>\n",
              "    </tr>\n",
              "    <tr>\n",
              "      <th>15</th>\n",
              "      <td>negative</td>\n",
              "      <td>-0.429480</td>\n",
              "    </tr>\n",
              "    <tr>\n",
              "      <th>18</th>\n",
              "      <td>negative</td>\n",
              "      <td>0.072992</td>\n",
              "    </tr>\n",
              "    <tr>\n",
              "      <th>22</th>\n",
              "      <td>negative</td>\n",
              "      <td>-0.668155</td>\n",
              "    </tr>\n",
              "    <tr>\n",
              "      <th>...</th>\n",
              "      <td>...</td>\n",
              "      <td>...</td>\n",
              "    </tr>\n",
              "    <tr>\n",
              "      <th>5602</th>\n",
              "      <td>negative</td>\n",
              "      <td>-0.102873</td>\n",
              "    </tr>\n",
              "    <tr>\n",
              "      <th>5614</th>\n",
              "      <td>negative</td>\n",
              "      <td>0.663397</td>\n",
              "    </tr>\n",
              "    <tr>\n",
              "      <th>5615</th>\n",
              "      <td>negative</td>\n",
              "      <td>-0.492289</td>\n",
              "    </tr>\n",
              "    <tr>\n",
              "      <th>5618</th>\n",
              "      <td>negative</td>\n",
              "      <td>-1.773594</td>\n",
              "    </tr>\n",
              "    <tr>\n",
              "      <th>5643</th>\n",
              "      <td>positive</td>\n",
              "      <td>-0.906829</td>\n",
              "    </tr>\n",
              "  </tbody>\n",
              "</table>\n",
              "<p>602 rows × 2 columns</p>\n",
              "</div>"
            ],
            "text/plain": [
              "     SARS-Cov-2 exam result  Platelets\n",
              "1                  negative  -0.517413\n",
              "8                  negative   1.429667\n",
              "15                 negative  -0.429480\n",
              "18                 negative   0.072992\n",
              "22                 negative  -0.668155\n",
              "...                     ...        ...\n",
              "5602               negative  -0.102873\n",
              "5614               negative   0.663397\n",
              "5615               negative  -0.492289\n",
              "5618               negative  -1.773594\n",
              "5643               positive  -0.906829\n",
              "\n",
              "[602 rows x 2 columns]"
            ]
          },
          "metadata": {},
          "execution_count": 22
        }
      ]
    },
    {
      "cell_type": "markdown",
      "source": [
        "# Neutrophils"
      ],
      "metadata": {
        "id": "7oUVp0EhH2z-"
      }
    },
    {
      "cell_type": "code",
      "source": [
        "exame_result_neutrophils = df['Neutrophils']\n",
        "exame_result_neutrophils"
      ],
      "metadata": {
        "colab": {
          "base_uri": "https://localhost:8080/"
        },
        "id": "z1i1rks5FnPu",
        "outputId": "6be2aa1a-1aaa-4154-e22d-6cf8a08d9292"
      },
      "execution_count": 6,
      "outputs": [
        {
          "output_type": "execute_result",
          "data": {
            "text/plain": [
              "0            NaN\n",
              "1      -0.619086\n",
              "2            NaN\n",
              "3            NaN\n",
              "4            NaN\n",
              "          ...   \n",
              "5639         NaN\n",
              "5640         NaN\n",
              "5641         NaN\n",
              "5642         NaN\n",
              "5643    0.380685\n",
              "Name: Neutrophils, Length: 5644, dtype: float64"
            ]
          },
          "metadata": {},
          "execution_count": 6
        }
      ]
    },
    {
      "cell_type": "code",
      "source": [
        "#Qual a quantidade de valores repetidos ? \n",
        "exameResult = exame_result_neutrophils.value_counts()\n",
        "exameResult"
      ],
      "metadata": {
        "colab": {
          "base_uri": "https://localhost:8080/"
        },
        "id": "5L80eaGIGkHS",
        "outputId": "6423d253-e2cb-4888-974e-61d67e109f50"
      },
      "execution_count": null,
      "outputs": [
        {
          "output_type": "execute_result",
          "data": {
            "text/plain": [
              "-0.209344    6\n",
              "-1.192725    4\n",
              " 1.257534    4\n",
              "-0.348656    4\n",
              " 0.249567    4\n",
              "            ..\n",
              " 2.175356    1\n",
              "-0.324072    1\n",
              "-1.594273    1\n",
              " 1.282118    1\n",
              " 1.511574    1\n",
              "Name: Neutrophils, Length: 308, dtype: int64"
            ]
          },
          "metadata": {},
          "execution_count": 39
        }
      ]
    },
    {
      "cell_type": "code",
      "source": [
        "#Qual a quantidade ? \n",
        "exameResult.count()"
      ],
      "metadata": {
        "colab": {
          "base_uri": "https://localhost:8080/"
        },
        "id": "u41QK8x6HLXb",
        "outputId": "b30c357b-c303-4454-cfd9-69fd5504471e"
      },
      "execution_count": null,
      "outputs": [
        {
          "output_type": "execute_result",
          "data": {
            "text/plain": [
              "308"
            ]
          },
          "metadata": {},
          "execution_count": 42
        }
      ]
    },
    {
      "cell_type": "code",
      "source": [
        "#Qual o valor minimo ? \n",
        "exame_result_neutrophils.min()"
      ],
      "metadata": {
        "colab": {
          "base_uri": "https://localhost:8080/"
        },
        "id": "WsJRYWbdvt7W",
        "outputId": "75c09043-250d-4c74-d448-206e4ab87ee1"
      },
      "execution_count": null,
      "outputs": [
        {
          "output_type": "execute_result",
          "data": {
            "text/plain": [
              "-3.3397746086121"
            ]
          },
          "metadata": {},
          "execution_count": 44
        }
      ]
    },
    {
      "cell_type": "code",
      "source": [
        "#Qual o valor minimo ? \n",
        "exame_result_neutrophils.max()"
      ],
      "metadata": {
        "colab": {
          "base_uri": "https://localhost:8080/"
        },
        "id": "_U98iwZhwQH2",
        "outputId": "199fd9d4-6371-4b53-cb22-ca8af96a5c35"
      },
      "execution_count": null,
      "outputs": [
        {
          "output_type": "execute_result",
          "data": {
            "text/plain": [
              "2.5359292030333997"
            ]
          },
          "metadata": {},
          "execution_count": 45
        }
      ]
    },
    {
      "cell_type": "code",
      "source": [
        "#Qual a media ? \n",
        "exameResult.mean()\n"
      ],
      "metadata": {
        "colab": {
          "base_uri": "https://localhost:8080/"
        },
        "id": "63rXwzdOImT5",
        "outputId": "a69d5252-380d-4df9-beba-096c4915b31d"
      },
      "execution_count": null,
      "outputs": [
        {
          "output_type": "execute_result",
          "data": {
            "text/plain": [
              "1.6655844155844155"
            ]
          },
          "metadata": {},
          "execution_count": 27
        }
      ]
    },
    {
      "cell_type": "code",
      "source": [
        "#Descrição\n",
        "exameResult.describe()\n"
      ],
      "metadata": {
        "colab": {
          "base_uri": "https://localhost:8080/"
        },
        "id": "azGNmxJqIvYW",
        "outputId": "38c65cdd-07d6-4bba-cdc8-4fa691b82b73"
      },
      "execution_count": null,
      "outputs": [
        {
          "output_type": "execute_result",
          "data": {
            "text/plain": [
              "count    308.000000\n",
              "mean       1.665584\n",
              "std        0.903405\n",
              "min        1.000000\n",
              "25%        1.000000\n",
              "50%        1.000000\n",
              "75%        2.000000\n",
              "max        6.000000\n",
              "Name: Neutrophils, dtype: float64"
            ]
          },
          "metadata": {},
          "execution_count": 46
        }
      ]
    },
    {
      "cell_type": "code",
      "source": [
        "#Histograma Neutrophils\n",
        "exame_result_neutrophils.hist()"
      ],
      "metadata": {
        "colab": {
          "base_uri": "https://localhost:8080/",
          "height": 282
        },
        "id": "iEhOylRlHfCs",
        "outputId": "e3c72e7e-8d8e-43a7-e08b-8ec5fbfae0ea"
      },
      "execution_count": null,
      "outputs": [
        {
          "output_type": "execute_result",
          "data": {
            "text/plain": [
              "<matplotlib.axes._subplots.AxesSubplot at 0x7f8def49e050>"
            ]
          },
          "metadata": {},
          "execution_count": 71
        },
        {
          "output_type": "display_data",
          "data": {
            "image/png": "[encoded data removed]",
            "text/plain": [
              "<Figure size 432x288 with 1 Axes>"
            ]
          },
          "metadata": {
            "needs_background": "light"
          }
        }
      ]
    },
    {
      "cell_type": "code",
      "source": [
        "#Selecionando colunas\n",
        "colunasSelecionadas = ['SARS-Cov-2 exam result', 'Neutrophils']\n"
      ],
      "metadata": {
        "id": "ZaEQyIpoGybl"
      },
      "execution_count": null,
      "outputs": []
    },
    {
      "cell_type": "code",
      "source": [
        "#Fazendo a filtragem das colunas selecionadas\n",
        "microdadosCovidExame = df.filter(items=colunasSelecionadas)\n",
        "microdadosCovidExame"
      ],
      "metadata": {
        "colab": {
          "base_uri": "https://localhost:8080/",
          "height": 424
        },
        "id": "FzsgW73QJFgi",
        "outputId": "985cf550-5863-4a29-db36-71513515103d"
      },
      "execution_count": null,
      "outputs": [
        {
          "output_type": "execute_result",
          "data": {
            "text/html": [
              "<div>\n",
              "<style scoped>\n",
              "    .dataframe tbody tr th:only-of-type {\n",
              "        vertical-align: middle;\n",
              "    }\n",
              "\n",
              "    .dataframe tbody tr th {\n",
              "        vertical-align: top;\n",
              "    }\n",
              "\n",
              "    .dataframe thead th {\n",
              "        text-align: right;\n",
              "    }\n",
              "</style>\n",
              "<table border=\"1\" class=\"dataframe\">\n",
              "  <thead>\n",
              "    <tr style=\"text-align: right;\">\n",
              "      <th></th>\n",
              "      <th>SARS-Cov-2 exam result</th>\n",
              "      <th>Neutrophils</th>\n",
              "    </tr>\n",
              "  </thead>\n",
              "  <tbody>\n",
              "    <tr>\n",
              "      <th>0</th>\n",
              "      <td>negative</td>\n",
              "      <td>NaN</td>\n",
              "    </tr>\n",
              "    <tr>\n",
              "      <th>1</th>\n",
              "      <td>negative</td>\n",
              "      <td>-0.619086</td>\n",
              "    </tr>\n",
              "    <tr>\n",
              "      <th>2</th>\n",
              "      <td>negative</td>\n",
              "      <td>NaN</td>\n",
              "    </tr>\n",
              "    <tr>\n",
              "      <th>3</th>\n",
              "      <td>negative</td>\n",
              "      <td>NaN</td>\n",
              "    </tr>\n",
              "    <tr>\n",
              "      <th>4</th>\n",
              "      <td>negative</td>\n",
              "      <td>NaN</td>\n",
              "    </tr>\n",
              "    <tr>\n",
              "      <th>...</th>\n",
              "      <td>...</td>\n",
              "      <td>...</td>\n",
              "    </tr>\n",
              "    <tr>\n",
              "      <th>5639</th>\n",
              "      <td>positive</td>\n",
              "      <td>NaN</td>\n",
              "    </tr>\n",
              "    <tr>\n",
              "      <th>5640</th>\n",
              "      <td>negative</td>\n",
              "      <td>NaN</td>\n",
              "    </tr>\n",
              "    <tr>\n",
              "      <th>5641</th>\n",
              "      <td>negative</td>\n",
              "      <td>NaN</td>\n",
              "    </tr>\n",
              "    <tr>\n",
              "      <th>5642</th>\n",
              "      <td>negative</td>\n",
              "      <td>NaN</td>\n",
              "    </tr>\n",
              "    <tr>\n",
              "      <th>5643</th>\n",
              "      <td>positive</td>\n",
              "      <td>0.380685</td>\n",
              "    </tr>\n",
              "  </tbody>\n",
              "</table>\n",
              "<p>5644 rows × 2 columns</p>\n",
              "</div>"
            ],
            "text/plain": [
              "     SARS-Cov-2 exam result  Neutrophils\n",
              "0                  negative          NaN\n",
              "1                  negative    -0.619086\n",
              "2                  negative          NaN\n",
              "3                  negative          NaN\n",
              "4                  negative          NaN\n",
              "...                     ...          ...\n",
              "5639               positive          NaN\n",
              "5640               negative          NaN\n",
              "5641               negative          NaN\n",
              "5642               negative          NaN\n",
              "5643               positive     0.380685\n",
              "\n",
              "[5644 rows x 2 columns]"
            ]
          },
          "metadata": {},
          "execution_count": 49
        }
      ]
    },
    {
      "cell_type": "code",
      "source": [
        "microdadosCovidExame.groupby('SARS-Cov-2 exam result').count()"
      ],
      "metadata": {
        "colab": {
          "base_uri": "https://localhost:8080/",
          "height": 143
        },
        "id": "eHxwd8RjJP4c",
        "outputId": "2f86fd6a-68ca-42cb-b723-b9c0750be011"
      },
      "execution_count": null,
      "outputs": [
        {
          "output_type": "execute_result",
          "data": {
            "text/html": [
              "<div>\n",
              "<style scoped>\n",
              "    .dataframe tbody tr th:only-of-type {\n",
              "        vertical-align: middle;\n",
              "    }\n",
              "\n",
              "    .dataframe tbody tr th {\n",
              "        vertical-align: top;\n",
              "    }\n",
              "\n",
              "    .dataframe thead th {\n",
              "        text-align: right;\n",
              "    }\n",
              "</style>\n",
              "<table border=\"1\" class=\"dataframe\">\n",
              "  <thead>\n",
              "    <tr style=\"text-align: right;\">\n",
              "      <th></th>\n",
              "      <th>Neutrophils</th>\n",
              "    </tr>\n",
              "    <tr>\n",
              "      <th>SARS-Cov-2 exam result</th>\n",
              "      <th></th>\n",
              "    </tr>\n",
              "  </thead>\n",
              "  <tbody>\n",
              "    <tr>\n",
              "      <th>negative</th>\n",
              "      <td>438</td>\n",
              "    </tr>\n",
              "    <tr>\n",
              "      <th>positive</th>\n",
              "      <td>75</td>\n",
              "    </tr>\n",
              "  </tbody>\n",
              "</table>\n",
              "</div>"
            ],
            "text/plain": [
              "                        Neutrophils\n",
              "SARS-Cov-2 exam result             \n",
              "negative                        438\n",
              "positive                         75"
            ]
          },
          "metadata": {},
          "execution_count": 50
        }
      ]
    },
    {
      "cell_type": "code",
      "source": [
        "microdadosCovidExame.groupby('SARS-Cov-2 exam result').describe()"
      ],
      "metadata": {
        "colab": {
          "base_uri": "https://localhost:8080/",
          "height": 175
        },
        "id": "bYnC1yb5JgEK",
        "outputId": "13f091a7-38df-4c80-eb9e-54e60dd3a1de"
      },
      "execution_count": null,
      "outputs": [
        {
          "output_type": "execute_result",
          "data": {
            "text/html": [
              "<div>\n",
              "<style scoped>\n",
              "    .dataframe tbody tr th:only-of-type {\n",
              "        vertical-align: middle;\n",
              "    }\n",
              "\n",
              "    .dataframe tbody tr th {\n",
              "        vertical-align: top;\n",
              "    }\n",
              "\n",
              "    .dataframe thead tr th {\n",
              "        text-align: left;\n",
              "    }\n",
              "\n",
              "    .dataframe thead tr:last-of-type th {\n",
              "        text-align: right;\n",
              "    }\n",
              "</style>\n",
              "<table border=\"1\" class=\"dataframe\">\n",
              "  <thead>\n",
              "    <tr>\n",
              "      <th></th>\n",
              "      <th colspan=\"8\" halign=\"left\">Neutrophils</th>\n",
              "    </tr>\n",
              "    <tr>\n",
              "      <th></th>\n",
              "      <th>count</th>\n",
              "      <th>mean</th>\n",
              "      <th>std</th>\n",
              "      <th>min</th>\n",
              "      <th>25%</th>\n",
              "      <th>50%</th>\n",
              "      <th>75%</th>\n",
              "      <th>max</th>\n",
              "    </tr>\n",
              "    <tr>\n",
              "      <th>SARS-Cov-2 exam result</th>\n",
              "      <th></th>\n",
              "      <th></th>\n",
              "      <th></th>\n",
              "      <th></th>\n",
              "      <th></th>\n",
              "      <th></th>\n",
              "      <th></th>\n",
              "      <th></th>\n",
              "    </tr>\n",
              "  </thead>\n",
              "  <tbody>\n",
              "    <tr>\n",
              "      <th>negative</th>\n",
              "      <td>438.0</td>\n",
              "      <td>0.015715</td>\n",
              "      <td>1.014696</td>\n",
              "      <td>-3.339775</td>\n",
              "      <td>-0.649817</td>\n",
              "      <td>-0.061837</td>\n",
              "      <td>0.714625</td>\n",
              "      <td>2.535929</td>\n",
              "    </tr>\n",
              "    <tr>\n",
              "      <th>positive</th>\n",
              "      <td>75.0</td>\n",
              "      <td>-0.091775</td>\n",
              "      <td>0.917705</td>\n",
              "      <td>-2.233470</td>\n",
              "      <td>-0.701035</td>\n",
              "      <td>-0.029057</td>\n",
              "      <td>0.519997</td>\n",
              "      <td>1.888536</td>\n",
              "    </tr>\n",
              "  </tbody>\n",
              "</table>\n",
              "</div>"
            ],
            "text/plain": [
              "                       Neutrophils            ...                    \n",
              "                             count      mean  ...       75%       max\n",
              "SARS-Cov-2 exam result                        ...                    \n",
              "negative                     438.0  0.015715  ...  0.714625  2.535929\n",
              "positive                      75.0 -0.091775  ...  0.519997  1.888536\n",
              "\n",
              "[2 rows x 8 columns]"
            ]
          },
          "metadata": {},
          "execution_count": 35
        }
      ]
    },
    {
      "cell_type": "code",
      "source": [
        "microdadosCovidExame.groupby('SARS-Cov-2 exam result').hist()"
      ],
      "metadata": {
        "colab": {
          "base_uri": "https://localhost:8080/",
          "height": 614
        },
        "id": "zbWfploBJYSE",
        "outputId": "bfe7b7e1-9943-491d-aacd-6b7429440a8b"
      },
      "execution_count": null,
      "outputs": [
        {
          "output_type": "execute_result",
          "data": {
            "text/plain": [
              "SARS-Cov-2 exam result\n",
              "negative    [[AxesSubplot(0.125,0.125;0.775x0.755)]]\n",
              "positive    [[AxesSubplot(0.125,0.125;0.775x0.755)]]\n",
              "dtype: object"
            ]
          },
          "metadata": {},
          "execution_count": 36
        },
        {
          "output_type": "display_data",
          "data": {
            "image/png": "[encoded data removed]",
            "text/plain": [
              "<Figure size 432x288 with 1 Axes>"
            ]
          },
          "metadata": {
            "needs_background": "light"
          }
        },
        {
          "output_type": "display_data",
          "data": {
            "image/png": "[encoded data removed]",
            "text/plain": [
              "<Figure size 432x288 with 1 Axes>"
            ]
          },
          "metadata": {
            "needs_background": "light"
          }
        }
      ]
    },
    {
      "cell_type": "code",
      "source": [
        "#Qual quantidade de neutroplils quando o exame é positive e negative ?\n",
        "microdadosCovidExameResult = microdadosCovidExame.groupby('SARS-Cov-2 exam result').count().sort_values(by='Neutrophils')\n",
        "microdadosCovidExameResult"
      ],
      "metadata": {
        "colab": {
          "base_uri": "https://localhost:8080/",
          "height": 143
        },
        "id": "-6Puhm1AJn1w",
        "outputId": "43c89a16-3551-4e2a-a0dd-087142a24b3f"
      },
      "execution_count": null,
      "outputs": [
        {
          "output_type": "execute_result",
          "data": {
            "text/html": [
              "<div>\n",
              "<style scoped>\n",
              "    .dataframe tbody tr th:only-of-type {\n",
              "        vertical-align: middle;\n",
              "    }\n",
              "\n",
              "    .dataframe tbody tr th {\n",
              "        vertical-align: top;\n",
              "    }\n",
              "\n",
              "    .dataframe thead th {\n",
              "        text-align: right;\n",
              "    }\n",
              "</style>\n",
              "<table border=\"1\" class=\"dataframe\">\n",
              "  <thead>\n",
              "    <tr style=\"text-align: right;\">\n",
              "      <th></th>\n",
              "      <th>Neutrophils</th>\n",
              "    </tr>\n",
              "    <tr>\n",
              "      <th>SARS-Cov-2 exam result</th>\n",
              "      <th></th>\n",
              "    </tr>\n",
              "  </thead>\n",
              "  <tbody>\n",
              "    <tr>\n",
              "      <th>positive</th>\n",
              "      <td>75</td>\n",
              "    </tr>\n",
              "    <tr>\n",
              "      <th>negative</th>\n",
              "      <td>438</td>\n",
              "    </tr>\n",
              "  </tbody>\n",
              "</table>\n",
              "</div>"
            ],
            "text/plain": [
              "                        Neutrophils\n",
              "SARS-Cov-2 exam result             \n",
              "positive                         75\n",
              "negative                        438"
            ]
          },
          "metadata": {},
          "execution_count": 51
        }
      ]
    },
    {
      "cell_type": "code",
      "source": [
        "#Qual quantidade de neutroplils quando o exame é positive e negative ? Gráfico\n",
        "microdadosCovidExameResult['Neutrophils'].plot(kind='pie', figsize=(5,5), autopct=\"%0.2f%%\", title=\"Resultado dos exames - Neutrophils\")"
      ],
      "metadata": {
        "colab": {
          "base_uri": "https://localhost:8080/",
          "height": 336
        },
        "id": "yw9Y-qMtJ9PB",
        "outputId": "a99b91fb-ed28-468b-81c6-32edf598d3f2"
      },
      "execution_count": null,
      "outputs": [
        {
          "output_type": "execute_result",
          "data": {
            "text/plain": [
              "<matplotlib.axes._subplots.AxesSubplot at 0x7f8def4d11d0>"
            ]
          },
          "metadata": {},
          "execution_count": 52
        },
        {
          "output_type": "display_data",
          "data": {
            "image/png": "[encoded data removed]",
            "text/plain": [
              "<Figure size 360x360 with 1 Axes>"
            ]
          },
          "metadata": {}
        }
      ]
    },
    {
      "cell_type": "markdown",
      "source": [
        "# Monocytes"
      ],
      "metadata": {
        "id": "nHEr-wnjxWKH"
      }
    },
    {
      "cell_type": "code",
      "source": [
        "exame_result_monocytes = df['Monocytes']\n",
        "exame_result_monocytes"
      ],
      "metadata": {
        "colab": {
          "base_uri": "https://localhost:8080/"
        },
        "id": "1KBC9oLvxayH",
        "outputId": "6c1f1aab-7ebc-4201-d393-9d6185e73b95"
      },
      "execution_count": 7,
      "outputs": [
        {
          "output_type": "execute_result",
          "data": {
            "text/plain": [
              "0            NaN\n",
              "1       0.357547\n",
              "2            NaN\n",
              "3            NaN\n",
              "4            NaN\n",
              "          ...   \n",
              "5639         NaN\n",
              "5640         NaN\n",
              "5641         NaN\n",
              "5642         NaN\n",
              "5643    0.567652\n",
              "Name: Monocytes, Length: 5644, dtype: float64"
            ]
          },
          "metadata": {},
          "execution_count": 7
        }
      ]
    },
    {
      "cell_type": "code",
      "source": [
        "#Qual a quantidade de valores repetidos ? \n",
        "exameResult = exame_result_monocytes.value_counts()\n",
        "exameResult"
      ],
      "metadata": {
        "colab": {
          "base_uri": "https://localhost:8080/"
        },
        "id": "0Blpa-yyyrPT",
        "outputId": "1e5514f0-dda0-40f7-9e8c-a3918a43025a"
      },
      "execution_count": 8,
      "outputs": [
        {
          "output_type": "execute_result",
          "data": {
            "text/plain": [
              "-1.008140    23\n",
              "-0.482876    23\n",
              "-0.088928    15\n",
              "-0.456613    13\n",
              "-1.270772    12\n",
              "             ..\n",
              " 1.408075     1\n",
              " 1.959602     1\n",
              " 3.640448     1\n",
              " 4.507133     1\n",
              " 2.957604     1\n",
              "Name: Monocytes, Length: 146, dtype: int64"
            ]
          },
          "metadata": {},
          "execution_count": 8
        }
      ]
    },
    {
      "cell_type": "code",
      "source": [
        "#Qual a quantidade ? \n",
        "exameResult.count()"
      ],
      "metadata": {
        "colab": {
          "base_uri": "https://localhost:8080/"
        },
        "id": "eHEbavtby4ZQ",
        "outputId": "d5c67d4a-fbc2-459c-f936-e217f7fd9ad6"
      },
      "execution_count": 9,
      "outputs": [
        {
          "output_type": "execute_result",
          "data": {
            "text/plain": [
              "146"
            ]
          },
          "metadata": {},
          "execution_count": 9
        }
      ]
    },
    {
      "cell_type": "code",
      "source": [
        "#Qual a media ? \n",
        "exameResult.mean()"
      ],
      "metadata": {
        "colab": {
          "base_uri": "https://localhost:8080/"
        },
        "id": "Bov4FkyVzQ5X",
        "outputId": "a0786d3d-4c9d-4cd2-9bf2-eaf70eeccedc"
      },
      "execution_count": 10,
      "outputs": [
        {
          "output_type": "execute_result",
          "data": {
            "text/plain": [
              "4.116438356164384"
            ]
          },
          "metadata": {},
          "execution_count": 10
        }
      ]
    },
    {
      "cell_type": "code",
      "source": [
        "#Qual o valor minimo ? \n",
        "exame_result_monocytes.min()"
      ],
      "metadata": {
        "colab": {
          "base_uri": "https://localhost:8080/"
        },
        "id": "NVSWadK1y76Q",
        "outputId": "663d63b6-533d-4a55-9445-685ba2ea3677"
      },
      "execution_count": 11,
      "outputs": [
        {
          "output_type": "execute_result",
          "data": {
            "text/plain": [
              "-2.1637213230133"
            ]
          },
          "metadata": {},
          "execution_count": 11
        }
      ]
    },
    {
      "cell_type": "code",
      "source": [
        "#Qual o valor maximo ? \n",
        "exame_result_monocytes.max()"
      ],
      "metadata": {
        "colab": {
          "base_uri": "https://localhost:8080/"
        },
        "id": "a7fT8usOzUPo",
        "outputId": "edb5d16a-1a3e-4fb4-bb89-f95e59d95628"
      },
      "execution_count": 12,
      "outputs": [
        {
          "output_type": "execute_result",
          "data": {
            "text/plain": [
              "4.5333971977234"
            ]
          },
          "metadata": {},
          "execution_count": 12
        }
      ]
    },
    {
      "cell_type": "code",
      "source": [
        "#Descrição\n",
        "exameResult.describe()"
      ],
      "metadata": {
        "colab": {
          "base_uri": "https://localhost:8080/"
        },
        "id": "LDOLevTy0zGI",
        "outputId": "80c777a9-71ac-4ce9-bd1c-0b371eac12af"
      },
      "execution_count": 13,
      "outputs": [
        {
          "output_type": "execute_result",
          "data": {
            "text/plain": [
              "count    146.000000\n",
              "mean       4.116438\n",
              "std        3.847991\n",
              "min        1.000000\n",
              "25%        1.000000\n",
              "50%        3.000000\n",
              "75%        6.000000\n",
              "max       23.000000\n",
              "Name: Monocytes, dtype: float64"
            ]
          },
          "metadata": {},
          "execution_count": 13
        }
      ]
    },
    {
      "cell_type": "code",
      "source": [
        "#Histograma\n",
        "exame_result_monocytes.hist()"
      ],
      "metadata": {
        "colab": {
          "base_uri": "https://localhost:8080/",
          "height": 282
        },
        "id": "Ju1uyO0nzLWZ",
        "outputId": "bc104ceb-19d2-4aa4-eb2c-983074826bfa"
      },
      "execution_count": 14,
      "outputs": [
        {
          "output_type": "execute_result",
          "data": {
            "text/plain": [
              "<matplotlib.axes._subplots.AxesSubplot at 0x7ff6e1398ad0>"
            ]
          },
          "metadata": {},
          "execution_count": 14
        },
        {
          "output_type": "display_data",
          "data": {
            "image/png": "[encoded data removed]",
            "text/plain": [
              "<Figure size 432x288 with 1 Axes>"
            ]
          },
          "metadata": {
            "needs_background": "light"
          }
        }
      ]
    },
    {
      "cell_type": "code",
      "source": [
        "#Selecionando colunas\n",
        "colunasSelecionadas = ['SARS-Cov-2 exam result', 'Monocytes']"
      ],
      "metadata": {
        "id": "QVrPTOCf1TL2"
      },
      "execution_count": 15,
      "outputs": []
    },
    {
      "cell_type": "code",
      "source": [
        "#Fazendo a filtragem das colunas selecionadas\n",
        "microdadosCovidExame = df.filter(items=colunasSelecionadas)\n",
        "microdadosCovidExame"
      ],
      "metadata": {
        "colab": {
          "base_uri": "https://localhost:8080/",
          "height": 424
        },
        "id": "eQd-O4O01aRt",
        "outputId": "b637a52b-07bb-45a5-91fe-dcf90419cea5"
      },
      "execution_count": 16,
      "outputs": [
        {
          "output_type": "execute_result",
          "data": {
            "text/html": [
              "<div>\n",
              "<style scoped>\n",
              "    .dataframe tbody tr th:only-of-type {\n",
              "        vertical-align: middle;\n",
              "    }\n",
              "\n",
              "    .dataframe tbody tr th {\n",
              "        vertical-align: top;\n",
              "    }\n",
              "\n",
              "    .dataframe thead th {\n",
              "        text-align: right;\n",
              "    }\n",
              "</style>\n",
              "<table border=\"1\" class=\"dataframe\">\n",
              "  <thead>\n",
              "    <tr style=\"text-align: right;\">\n",
              "      <th></th>\n",
              "      <th>SARS-Cov-2 exam result</th>\n",
              "      <th>Monocytes</th>\n",
              "    </tr>\n",
              "  </thead>\n",
              "  <tbody>\n",
              "    <tr>\n",
              "      <th>0</th>\n",
              "      <td>negative</td>\n",
              "      <td>NaN</td>\n",
              "    </tr>\n",
              "    <tr>\n",
              "      <th>1</th>\n",
              "      <td>negative</td>\n",
              "      <td>0.357547</td>\n",
              "    </tr>\n",
              "    <tr>\n",
              "      <th>2</th>\n",
              "      <td>negative</td>\n",
              "      <td>NaN</td>\n",
              "    </tr>\n",
              "    <tr>\n",
              "      <th>3</th>\n",
              "      <td>negative</td>\n",
              "      <td>NaN</td>\n",
              "    </tr>\n",
              "    <tr>\n",
              "      <th>4</th>\n",
              "      <td>negative</td>\n",
              "      <td>NaN</td>\n",
              "    </tr>\n",
              "    <tr>\n",
              "      <th>...</th>\n",
              "      <td>...</td>\n",
              "      <td>...</td>\n",
              "    </tr>\n",
              "    <tr>\n",
              "      <th>5639</th>\n",
              "      <td>positive</td>\n",
              "      <td>NaN</td>\n",
              "    </tr>\n",
              "    <tr>\n",
              "      <th>5640</th>\n",
              "      <td>negative</td>\n",
              "      <td>NaN</td>\n",
              "    </tr>\n",
              "    <tr>\n",
              "      <th>5641</th>\n",
              "      <td>negative</td>\n",
              "      <td>NaN</td>\n",
              "    </tr>\n",
              "    <tr>\n",
              "      <th>5642</th>\n",
              "      <td>negative</td>\n",
              "      <td>NaN</td>\n",
              "    </tr>\n",
              "    <tr>\n",
              "      <th>5643</th>\n",
              "      <td>positive</td>\n",
              "      <td>0.567652</td>\n",
              "    </tr>\n",
              "  </tbody>\n",
              "</table>\n",
              "<p>5644 rows × 2 columns</p>\n",
              "</div>"
            ],
            "text/plain": [
              "     SARS-Cov-2 exam result  Monocytes\n",
              "0                  negative        NaN\n",
              "1                  negative   0.357547\n",
              "2                  negative        NaN\n",
              "3                  negative        NaN\n",
              "4                  negative        NaN\n",
              "...                     ...        ...\n",
              "5639               positive        NaN\n",
              "5640               negative        NaN\n",
              "5641               negative        NaN\n",
              "5642               negative        NaN\n",
              "5643               positive   0.567652\n",
              "\n",
              "[5644 rows x 2 columns]"
            ]
          },
          "metadata": {},
          "execution_count": 16
        }
      ]
    },
    {
      "cell_type": "code",
      "source": [
        "microdadosCovidExame.groupby('SARS-Cov-2 exam result').count()"
      ],
      "metadata": {
        "colab": {
          "base_uri": "https://localhost:8080/",
          "height": 143
        },
        "id": "APJnws361kRA",
        "outputId": "189fb18d-c9db-4a55-ad4f-44179a989e7d"
      },
      "execution_count": 17,
      "outputs": [
        {
          "output_type": "execute_result",
          "data": {
            "text/html": [
              "<div>\n",
              "<style scoped>\n",
              "    .dataframe tbody tr th:only-of-type {\n",
              "        vertical-align: middle;\n",
              "    }\n",
              "\n",
              "    .dataframe tbody tr th {\n",
              "        vertical-align: top;\n",
              "    }\n",
              "\n",
              "    .dataframe thead th {\n",
              "        text-align: right;\n",
              "    }\n",
              "</style>\n",
              "<table border=\"1\" class=\"dataframe\">\n",
              "  <thead>\n",
              "    <tr style=\"text-align: right;\">\n",
              "      <th></th>\n",
              "      <th>Monocytes</th>\n",
              "    </tr>\n",
              "    <tr>\n",
              "      <th>SARS-Cov-2 exam result</th>\n",
              "      <th></th>\n",
              "    </tr>\n",
              "  </thead>\n",
              "  <tbody>\n",
              "    <tr>\n",
              "      <th>negative</th>\n",
              "      <td>518</td>\n",
              "    </tr>\n",
              "    <tr>\n",
              "      <th>positive</th>\n",
              "      <td>83</td>\n",
              "    </tr>\n",
              "  </tbody>\n",
              "</table>\n",
              "</div>"
            ],
            "text/plain": [
              "                        Monocytes\n",
              "SARS-Cov-2 exam result           \n",
              "negative                      518\n",
              "positive                       83"
            ]
          },
          "metadata": {},
          "execution_count": 17
        }
      ]
    },
    {
      "cell_type": "code",
      "source": [
        "#Qual quantidade de Monocytes quando o exame é positive e negative ?\n",
        "microdadosCovidExameResult = microdadosCovidExame.groupby('SARS-Cov-2 exam result').count().sort_values(by='Monocytes')\n",
        "microdadosCovidExameResult"
      ],
      "metadata": {
        "colab": {
          "base_uri": "https://localhost:8080/",
          "height": 143
        },
        "id": "RipVfsroBFpV",
        "outputId": "6bd44c13-0000-44d9-b24a-9c0a42e40142"
      },
      "execution_count": 18,
      "outputs": [
        {
          "output_type": "execute_result",
          "data": {
            "text/html": [
              "<div>\n",
              "<style scoped>\n",
              "    .dataframe tbody tr th:only-of-type {\n",
              "        vertical-align: middle;\n",
              "    }\n",
              "\n",
              "    .dataframe tbody tr th {\n",
              "        vertical-align: top;\n",
              "    }\n",
              "\n",
              "    .dataframe thead th {\n",
              "        text-align: right;\n",
              "    }\n",
              "</style>\n",
              "<table border=\"1\" class=\"dataframe\">\n",
              "  <thead>\n",
              "    <tr style=\"text-align: right;\">\n",
              "      <th></th>\n",
              "      <th>Monocytes</th>\n",
              "    </tr>\n",
              "    <tr>\n",
              "      <th>SARS-Cov-2 exam result</th>\n",
              "      <th></th>\n",
              "    </tr>\n",
              "  </thead>\n",
              "  <tbody>\n",
              "    <tr>\n",
              "      <th>positive</th>\n",
              "      <td>83</td>\n",
              "    </tr>\n",
              "    <tr>\n",
              "      <th>negative</th>\n",
              "      <td>518</td>\n",
              "    </tr>\n",
              "  </tbody>\n",
              "</table>\n",
              "</div>"
            ],
            "text/plain": [
              "                        Monocytes\n",
              "SARS-Cov-2 exam result           \n",
              "positive                       83\n",
              "negative                      518"
            ]
          },
          "metadata": {},
          "execution_count": 18
        }
      ]
    },
    {
      "cell_type": "code",
      "source": [
        "#Qual quantidade de Monocytes quando o exame é positive e negative ? Gráfico\n",
        "microdadosCovidExameResult['Monocytes'].plot(kind='pie', figsize=(5,5), autopct=\"%0.2f%%\", title=\"Resultado dos exames - Monocytes\")"
      ],
      "metadata": {
        "colab": {
          "base_uri": "https://localhost:8080/",
          "height": 336
        },
        "id": "GQ1IA62kAr2G",
        "outputId": "ec46a9e1-8b41-484a-fc4f-b96b943748ef"
      },
      "execution_count": 19,
      "outputs": [
        {
          "output_type": "execute_result",
          "data": {
            "text/plain": [
              "<matplotlib.axes._subplots.AxesSubplot at 0x7ff6e1348f90>"
            ]
          },
          "metadata": {},
          "execution_count": 19
        },
        {
          "output_type": "display_data",
          "data": {
            "image/png": "[encoded data removed]",
            "text/plain": [
              "<Figure size 360x360 with 1 Axes>"
            ]
          },
          "metadata": {}
        }
      ]
    },
    {
      "cell_type": "markdown",
      "source": [
        "# Red blood cells"
      ],
      "metadata": {
        "id": "Hid_KXwOBmxZ"
      }
    },
    {
      "cell_type": "code",
      "source": [
        "exame_result_red_blood_cells = df['Red blood Cells']\n",
        "exame_result_red_blood_cells"
      ],
      "metadata": {
        "colab": {
          "base_uri": "https://localhost:8080/"
        },
        "id": "6tPLstt8H8FP",
        "outputId": "195bb704-642c-4b1e-c331-241b5742ad8b"
      },
      "execution_count": 20,
      "outputs": [
        {
          "output_type": "execute_result",
          "data": {
            "text/plain": [
              "0            NaN\n",
              "1       0.102004\n",
              "2            NaN\n",
              "3            NaN\n",
              "4            NaN\n",
              "          ...   \n",
              "5639         NaN\n",
              "5640         NaN\n",
              "5641         NaN\n",
              "5642         NaN\n",
              "5643    0.578024\n",
              "Name: Red blood Cells, Length: 5644, dtype: float64"
            ]
          },
          "metadata": {},
          "execution_count": 20
        }
      ]
    },
    {
      "cell_type": "code",
      "source": [
        "#Qual a quantidade de valores repetidos ? \n",
        "exameResult = exame_result_red_blood_cells.value_counts()\n",
        "exameResult"
      ],
      "metadata": {
        "colab": {
          "base_uri": "https://localhost:8080/"
        },
        "id": "lup51GrBIWwc",
        "outputId": "2dad65c0-9a69-46f6-ca09-7041ce708fa1"
      },
      "execution_count": 21,
      "outputs": [
        {
          "output_type": "execute_result",
          "data": {
            "text/plain": [
              "-0.567950    10\n",
              "-0.127191     9\n",
              "-0.215342     9\n",
              "-0.779514     9\n",
              " 0.366460     8\n",
              "             ..\n",
              "-2.031269     1\n",
              "-1.837335     1\n",
              " 1.688736     1\n",
              " 2.023713     1\n",
              " 1.988453     1\n",
              "Name: Red blood Cells, Length: 211, dtype: int64"
            ]
          },
          "metadata": {},
          "execution_count": 21
        }
      ]
    },
    {
      "cell_type": "code",
      "source": [
        "#Qual a quantidade ? \n",
        "exameResult.count()"
      ],
      "metadata": {
        "colab": {
          "base_uri": "https://localhost:8080/"
        },
        "id": "AxBNQzj0Imr8",
        "outputId": "7d0f5fe6-247d-4726-e921-6138d02ee8aa"
      },
      "execution_count": 22,
      "outputs": [
        {
          "output_type": "execute_result",
          "data": {
            "text/plain": [
              "211"
            ]
          },
          "metadata": {},
          "execution_count": 22
        }
      ]
    },
    {
      "cell_type": "code",
      "source": [
        "#Qual a media ? \n",
        "exameResult.mean()"
      ],
      "metadata": {
        "colab": {
          "base_uri": "https://localhost:8080/"
        },
        "id": "K63xpjBzIrUK",
        "outputId": "ced4283b-b41f-4ea5-9f4a-e53f2a0d9500"
      },
      "execution_count": 23,
      "outputs": [
        {
          "output_type": "execute_result",
          "data": {
            "text/plain": [
              "2.853080568720379"
            ]
          },
          "metadata": {},
          "execution_count": 23
        }
      ]
    },
    {
      "cell_type": "code",
      "source": [
        "#Qual o valor minimo ? \n",
        "exame_result_monocytes.min()"
      ],
      "metadata": {
        "colab": {
          "base_uri": "https://localhost:8080/"
        },
        "id": "XFC7D7fwIvMT",
        "outputId": "557a5679-589b-48fc-a608-139b97112729"
      },
      "execution_count": 24,
      "outputs": [
        {
          "output_type": "execute_result",
          "data": {
            "text/plain": [
              "-2.1637213230133"
            ]
          },
          "metadata": {},
          "execution_count": 24
        }
      ]
    },
    {
      "cell_type": "code",
      "source": [
        "#Qual o valor maximo ? \n",
        "exame_result_monocytes.max()"
      ],
      "metadata": {
        "colab": {
          "base_uri": "https://localhost:8080/"
        },
        "id": "15xzDG5EIzW7",
        "outputId": "029dc7f3-8f86-400a-ad47-38ca56d009f2"
      },
      "execution_count": 25,
      "outputs": [
        {
          "output_type": "execute_result",
          "data": {
            "text/plain": [
              "4.5333971977234"
            ]
          },
          "metadata": {},
          "execution_count": 25
        }
      ]
    },
    {
      "cell_type": "code",
      "source": [
        "#Descrição\n",
        "exameResult.describe()"
      ],
      "metadata": {
        "colab": {
          "base_uri": "https://localhost:8080/"
        },
        "id": "4YhX_byUI3OL",
        "outputId": "57047ee4-6575-44ea-b8e5-606e7e7a3b33"
      },
      "execution_count": 26,
      "outputs": [
        {
          "output_type": "execute_result",
          "data": {
            "text/plain": [
              "count    211.000000\n",
              "mean       2.853081\n",
              "std        2.042927\n",
              "min        1.000000\n",
              "25%        1.000000\n",
              "50%        2.000000\n",
              "75%        4.000000\n",
              "max       10.000000\n",
              "Name: Red blood Cells, dtype: float64"
            ]
          },
          "metadata": {},
          "execution_count": 26
        }
      ]
    },
    {
      "cell_type": "code",
      "source": [
        "#Histograma\n",
        "exame_result_monocytes.hist()"
      ],
      "metadata": {
        "colab": {
          "base_uri": "https://localhost:8080/",
          "height": 282
        },
        "id": "VppmMvW2I9Vn",
        "outputId": "b69d54c4-dd9e-4959-a25e-e19fdeef3099"
      },
      "execution_count": 27,
      "outputs": [
        {
          "output_type": "execute_result",
          "data": {
            "text/plain": [
              "<matplotlib.axes._subplots.AxesSubplot at 0x7ff6e12db350>"
            ]
          },
          "metadata": {},
          "execution_count": 27
        },
        {
          "output_type": "display_data",
          "data": {
            "image/png": "[encoded data removed]",
            "text/plain": [
              "<Figure size 432x288 with 1 Axes>"
            ]
          },
          "metadata": {
            "needs_background": "light"
          }
        }
      ]
    },
    {
      "cell_type": "code",
      "source": [
        "#Selecionando colunas\n",
        "colunasSelecionadas = ['SARS-Cov-2 exam result', 'Red blood Cells']"
      ],
      "metadata": {
        "id": "b4T0A0iUJD8i"
      },
      "execution_count": 28,
      "outputs": []
    },
    {
      "cell_type": "code",
      "source": [
        "#Fazendo a filtragem das colunas selecionadas\n",
        "microdadosCovidExame = df.filter(items=colunasSelecionadas)\n",
        "microdadosCovidExame"
      ],
      "metadata": {
        "colab": {
          "base_uri": "https://localhost:8080/",
          "height": 424
        },
        "id": "X2MYW_zdJLOL",
        "outputId": "4058a7e1-1da2-47ed-a064-e3973e396af2"
      },
      "execution_count": 29,
      "outputs": [
        {
          "output_type": "execute_result",
          "data": {
            "text/html": [
              "<div>\n",
              "<style scoped>\n",
              "    .dataframe tbody tr th:only-of-type {\n",
              "        vertical-align: middle;\n",
              "    }\n",
              "\n",
              "    .dataframe tbody tr th {\n",
              "        vertical-align: top;\n",
              "    }\n",
              "\n",
              "    .dataframe thead th {\n",
              "        text-align: right;\n",
              "    }\n",
              "</style>\n",
              "<table border=\"1\" class=\"dataframe\">\n",
              "  <thead>\n",
              "    <tr style=\"text-align: right;\">\n",
              "      <th></th>\n",
              "      <th>SARS-Cov-2 exam result</th>\n",
              "      <th>Red blood Cells</th>\n",
              "    </tr>\n",
              "  </thead>\n",
              "  <tbody>\n",
              "    <tr>\n",
              "      <th>0</th>\n",
              "      <td>negative</td>\n",
              "      <td>NaN</td>\n",
              "    </tr>\n",
              "    <tr>\n",
              "      <th>1</th>\n",
              "      <td>negative</td>\n",
              "      <td>0.102004</td>\n",
              "    </tr>\n",
              "    <tr>\n",
              "      <th>2</th>\n",
              "      <td>negative</td>\n",
              "      <td>NaN</td>\n",
              "    </tr>\n",
              "    <tr>\n",
              "      <th>3</th>\n",
              "      <td>negative</td>\n",
              "      <td>NaN</td>\n",
              "    </tr>\n",
              "    <tr>\n",
              "      <th>4</th>\n",
              "      <td>negative</td>\n",
              "      <td>NaN</td>\n",
              "    </tr>\n",
              "    <tr>\n",
              "      <th>...</th>\n",
              "      <td>...</td>\n",
              "      <td>...</td>\n",
              "    </tr>\n",
              "    <tr>\n",
              "      <th>5639</th>\n",
              "      <td>positive</td>\n",
              "      <td>NaN</td>\n",
              "    </tr>\n",
              "    <tr>\n",
              "      <th>5640</th>\n",
              "      <td>negative</td>\n",
              "      <td>NaN</td>\n",
              "    </tr>\n",
              "    <tr>\n",
              "      <th>5641</th>\n",
              "      <td>negative</td>\n",
              "      <td>NaN</td>\n",
              "    </tr>\n",
              "    <tr>\n",
              "      <th>5642</th>\n",
              "      <td>negative</td>\n",
              "      <td>NaN</td>\n",
              "    </tr>\n",
              "    <tr>\n",
              "      <th>5643</th>\n",
              "      <td>positive</td>\n",
              "      <td>0.578024</td>\n",
              "    </tr>\n",
              "  </tbody>\n",
              "</table>\n",
              "<p>5644 rows × 2 columns</p>\n",
              "</div>"
            ],
            "text/plain": [
              "     SARS-Cov-2 exam result  Red blood Cells\n",
              "0                  negative              NaN\n",
              "1                  negative         0.102004\n",
              "2                  negative              NaN\n",
              "3                  negative              NaN\n",
              "4                  negative              NaN\n",
              "...                     ...              ...\n",
              "5639               positive              NaN\n",
              "5640               negative              NaN\n",
              "5641               negative              NaN\n",
              "5642               negative              NaN\n",
              "5643               positive         0.578024\n",
              "\n",
              "[5644 rows x 2 columns]"
            ]
          },
          "metadata": {},
          "execution_count": 29
        }
      ]
    },
    {
      "cell_type": "code",
      "source": [
        "#Qual quantidade de Red blood Cells quando o exame é positive e negative ?\n",
        "microdadosCovidExameResult = microdadosCovidExame.groupby('SARS-Cov-2 exam result').count().sort_values(by='Red blood Cells')\n",
        "microdadosCovidExameResult"
      ],
      "metadata": {
        "colab": {
          "base_uri": "https://localhost:8080/",
          "height": 143
        },
        "id": "uJQVna_TJSdi",
        "outputId": "83af2e54-b737-4f84-fde2-47380409301f"
      },
      "execution_count": 30,
      "outputs": [
        {
          "output_type": "execute_result",
          "data": {
            "text/html": [
              "<div>\n",
              "<style scoped>\n",
              "    .dataframe tbody tr th:only-of-type {\n",
              "        vertical-align: middle;\n",
              "    }\n",
              "\n",
              "    .dataframe tbody tr th {\n",
              "        vertical-align: top;\n",
              "    }\n",
              "\n",
              "    .dataframe thead th {\n",
              "        text-align: right;\n",
              "    }\n",
              "</style>\n",
              "<table border=\"1\" class=\"dataframe\">\n",
              "  <thead>\n",
              "    <tr style=\"text-align: right;\">\n",
              "      <th></th>\n",
              "      <th>Red blood Cells</th>\n",
              "    </tr>\n",
              "    <tr>\n",
              "      <th>SARS-Cov-2 exam result</th>\n",
              "      <th></th>\n",
              "    </tr>\n",
              "  </thead>\n",
              "  <tbody>\n",
              "    <tr>\n",
              "      <th>positive</th>\n",
              "      <td>83</td>\n",
              "    </tr>\n",
              "    <tr>\n",
              "      <th>negative</th>\n",
              "      <td>519</td>\n",
              "    </tr>\n",
              "  </tbody>\n",
              "</table>\n",
              "</div>"
            ],
            "text/plain": [
              "                        Red blood Cells\n",
              "SARS-Cov-2 exam result                 \n",
              "positive                             83\n",
              "negative                            519"
            ]
          },
          "metadata": {},
          "execution_count": 30
        }
      ]
    },
    {
      "cell_type": "code",
      "source": [
        "#Qual quantidade de Red blood Cells quando o exame é positive e negative ? Gráfico\n",
        "microdadosCovidExameResult['Red blood Cells'].plot(kind='pie', figsize=(5,5), autopct=\"%0.2f%%\", title=\"Resultado dos exames - Red blood Cells\")"
      ],
      "metadata": {
        "colab": {
          "base_uri": "https://localhost:8080/",
          "height": 336
        },
        "id": "nQzhjwnrJblN",
        "outputId": "f142d65a-1fb6-45d6-9425-2b1f5f2ce7a5"
      },
      "execution_count": 31,
      "outputs": [
        {
          "output_type": "execute_result",
          "data": {
            "text/plain": [
              "<matplotlib.axes._subplots.AxesSubplot at 0x7ff6e1355850>"
            ]
          },
          "metadata": {},
          "execution_count": 31
        },
        {
          "output_type": "display_data",
          "data": {
            "image/png": "[encoded data removed]",
            "text/plain": [
              "<Figure size 360x360 with 1 Axes>"
            ]
          },
          "metadata": {}
        }
      ]
    },
    {
      "cell_type": "markdown",
      "source": [
        "# Urine - Red blood cells"
      ],
      "metadata": {
        "id": "14nUfdJNZ8Mr"
      }
    },
    {
      "cell_type": "code",
      "source": [
        "exame_result_Urine_Red_blood_cells = df['Urine - Red blood cells']\n",
        "exame_result_Urine_Red_blood_cells"
      ],
      "metadata": {
        "colab": {
          "base_uri": "https://localhost:8080/"
        },
        "id": "XvUJbnt0Z6_Z",
        "outputId": "6e56ab27-be85-4d34-c029-d83d67f81bb4"
      },
      "execution_count": 32,
      "outputs": [
        {
          "output_type": "execute_result",
          "data": {
            "text/plain": [
              "0            NaN\n",
              "1            NaN\n",
              "2            NaN\n",
              "3            NaN\n",
              "4            NaN\n",
              "          ...   \n",
              "5639         NaN\n",
              "5640         NaN\n",
              "5641         NaN\n",
              "5642   -0.177169\n",
              "5643         NaN\n",
              "Name: Urine - Red blood cells, Length: 5644, dtype: float64"
            ]
          },
          "metadata": {},
          "execution_count": 32
        }
      ]
    },
    {
      "cell_type": "code",
      "source": [
        "#Qual a media ? \n",
        "exame_result_Urine_Red_blood_cells.mean()"
      ],
      "metadata": {
        "colab": {
          "base_uri": "https://localhost:8080/"
        },
        "id": "nz1p5LOTewEm",
        "outputId": "36065953-88b5-4c31-85a2-5cc1649fcb86"
      },
      "execution_count": 35,
      "outputs": [
        {
          "output_type": "execute_result",
          "data": {
            "text/plain": [
              "7.557017311524535e-09"
            ]
          },
          "metadata": {},
          "execution_count": 35
        }
      ]
    },
    {
      "cell_type": "code",
      "source": [
        "#Qual a quantidade de valores repetidos ? \n",
        "exameResult = exame_result_Urine_Red_blood_cells.value_counts()\n",
        "exameResult"
      ],
      "metadata": {
        "colab": {
          "base_uri": "https://localhost:8080/"
        },
        "id": "WlseuzINebr7",
        "outputId": "6895b170-d315-4bc2-c1f3-2b9dd5a3722d"
      },
      "execution_count": 33,
      "outputs": [
        {
          "output_type": "execute_result",
          "data": {
            "text/plain": [
              "-0.202297    19\n",
              "-0.200203     7\n",
              "-0.191827     5\n",
              "-0.193921     4\n",
              "-0.196015     4\n",
              "-0.181357     2\n",
              "-0.179263     2\n",
              "-0.187639     2\n",
              "-0.198109     2\n",
              "-0.103878     1\n",
              "-0.137383     1\n",
              "-0.126913     1\n",
              "-0.185545     1\n",
              "-0.149947     1\n",
              "-0.085032     1\n",
              "-0.147853     1\n",
              " 0.432191     1\n",
              " 2.000613     1\n",
              "-0.177169     1\n",
              "-0.172981     1\n",
              " 1.538882     1\n",
              "-0.141571     1\n",
              "-0.156229     1\n",
              "-0.129007     1\n",
              "-0.163767     1\n",
              "-0.091314     1\n",
              " 0.136934     1\n",
              "-0.198947     1\n",
              "-0.189733     1\n",
              " 7.821993     1\n",
              "-0.154135     1\n",
              "-0.162511     1\n",
              "Name: Urine - Red blood cells, dtype: int64"
            ]
          },
          "metadata": {},
          "execution_count": 33
        }
      ]
    },
    {
      "cell_type": "code",
      "source": [
        "#Qual a quantidade ? \n",
        "exameResult.count()"
      ],
      "metadata": {
        "colab": {
          "base_uri": "https://localhost:8080/"
        },
        "id": "ZHS9fslSek5a",
        "outputId": "b4bdf9cc-83a8-415a-9d87-7842f7117ead"
      },
      "execution_count": 34,
      "outputs": [
        {
          "output_type": "execute_result",
          "data": {
            "text/plain": [
              "32"
            ]
          },
          "metadata": {},
          "execution_count": 34
        }
      ]
    },
    {
      "cell_type": "code",
      "source": [
        "#Qual a media ? \n",
        "exameResult.mean()"
      ],
      "metadata": {
        "colab": {
          "base_uri": "https://localhost:8080/"
        },
        "id": "CurN8_ZRe1sT",
        "outputId": "f98200d9-fecd-43ed-8583-ae06c0403b18"
      },
      "execution_count": 36,
      "outputs": [
        {
          "output_type": "execute_result",
          "data": {
            "text/plain": [
              "2.1875"
            ]
          },
          "metadata": {},
          "execution_count": 36
        }
      ]
    },
    {
      "cell_type": "code",
      "source": [
        "#Qual o valor minimo ? \n",
        "exame_result_Urine_Red_blood_cells.min()"
      ],
      "metadata": {
        "colab": {
          "base_uri": "https://localhost:8080/"
        },
        "id": "dPGSlldOfIgr",
        "outputId": "59ba8e57-d2e0-4485-db6e-dda24f80bfbe"
      },
      "execution_count": 37,
      "outputs": [
        {
          "output_type": "execute_result",
          "data": {
            "text/plain": [
              "-0.20229743421078"
            ]
          },
          "metadata": {},
          "execution_count": 37
        }
      ]
    },
    {
      "cell_type": "code",
      "source": [
        "#Qual o valor maximo ? \n",
        "exame_result_Urine_Red_blood_cells.max()"
      ],
      "metadata": {
        "colab": {
          "base_uri": "https://localhost:8080/"
        },
        "id": "SlYnnpeBfzS8",
        "outputId": "51d671b3-6d33-439b-cc9a-c8ecb3087a80"
      },
      "execution_count": 38,
      "outputs": [
        {
          "output_type": "execute_result",
          "data": {
            "text/plain": [
              "7.821993350982701"
            ]
          },
          "metadata": {},
          "execution_count": 38
        }
      ]
    },
    {
      "cell_type": "code",
      "source": [
        "#Descrição\n",
        "exameResult.describe()"
      ],
      "metadata": {
        "colab": {
          "base_uri": "https://localhost:8080/"
        },
        "id": "GHnIyzj_gmut",
        "outputId": "70df886d-af4f-4283-8863-a1dd30f13bb9"
      },
      "execution_count": 39,
      "outputs": [
        {
          "output_type": "execute_result",
          "data": {
            "text/plain": [
              "count    32.00000\n",
              "mean      2.18750\n",
              "std       3.37388\n",
              "min       1.00000\n",
              "25%       1.00000\n",
              "50%       1.00000\n",
              "75%       2.00000\n",
              "max      19.00000\n",
              "Name: Urine - Red blood cells, dtype: float64"
            ]
          },
          "metadata": {},
          "execution_count": 39
        }
      ]
    },
    {
      "cell_type": "code",
      "source": [
        "exame_result_Urine_Red_blood_cells.describe()\n"
      ],
      "metadata": {
        "colab": {
          "base_uri": "https://localhost:8080/"
        },
        "id": "GOq_8QrZgp7S",
        "outputId": "2c36433f-da8a-4a11-bcb0-8ed26ffc144d"
      },
      "execution_count": 40,
      "outputs": [
        {
          "output_type": "execute_result",
          "data": {
            "text/plain": [
              "count    7.000000e+01\n",
              "mean     7.557017e-09\n",
              "std      1.007220e+00\n",
              "min     -2.022974e-01\n",
              "25%     -2.022974e-01\n",
              "50%     -1.939214e-01\n",
              "75%     -1.660709e-01\n",
              "max      7.821993e+00\n",
              "Name: Urine - Red blood cells, dtype: float64"
            ]
          },
          "metadata": {},
          "execution_count": 40
        }
      ]
    },
    {
      "cell_type": "code",
      "source": [
        "#Histograma\n",
        "exame_result_Urine_Red_blood_cells.hist()"
      ],
      "metadata": {
        "colab": {
          "base_uri": "https://localhost:8080/",
          "height": 285
        },
        "id": "oFisjwEHhQKq",
        "outputId": "c1841937-932f-4e26-ba98-3c3c8787ada5"
      },
      "execution_count": 42,
      "outputs": [
        {
          "output_type": "execute_result",
          "data": {
            "text/plain": [
              "<matplotlib.axes._subplots.AxesSubplot at 0x7ff6e129a850>"
            ]
          },
          "metadata": {},
          "execution_count": 42
        },
        {
          "output_type": "display_data",
          "data": {
            "image/png": "[encoded data removed]",
            "text/plain": [
              "<Figure size 432x288 with 1 Axes>"
            ]
          },
          "metadata": {
            "needs_background": "light"
          }
        }
      ]
    },
    {
      "cell_type": "code",
      "source": [
        "#Selecionando colunas\n",
        "colunasSelecionadas = ['SARS-Cov-2 exam result', 'Urine - Red blood cells']"
      ],
      "metadata": {
        "id": "oMapGhpehcyT"
      },
      "execution_count": 44,
      "outputs": []
    },
    {
      "cell_type": "code",
      "source": [
        "#Fazendo a filtragem das colunas selecionadas\n",
        "microdadosCovidExame = df.filter(items=colunasSelecionadas)\n",
        "microdadosCovidExame"
      ],
      "metadata": {
        "colab": {
          "base_uri": "https://localhost:8080/",
          "height": 424
        },
        "id": "ryXkFdZciB7b",
        "outputId": "f8d6d7c0-d84d-497c-bde8-aead0f99631e"
      },
      "execution_count": 46,
      "outputs": [
        {
          "output_type": "execute_result",
          "data": {
            "text/html": [
              "<div>\n",
              "<style scoped>\n",
              "    .dataframe tbody tr th:only-of-type {\n",
              "        vertical-align: middle;\n",
              "    }\n",
              "\n",
              "    .dataframe tbody tr th {\n",
              "        vertical-align: top;\n",
              "    }\n",
              "\n",
              "    .dataframe thead th {\n",
              "        text-align: right;\n",
              "    }\n",
              "</style>\n",
              "<table border=\"1\" class=\"dataframe\">\n",
              "  <thead>\n",
              "    <tr style=\"text-align: right;\">\n",
              "      <th></th>\n",
              "      <th>SARS-Cov-2 exam result</th>\n",
              "      <th>Urine - Red blood cells</th>\n",
              "    </tr>\n",
              "  </thead>\n",
              "  <tbody>\n",
              "    <tr>\n",
              "      <th>0</th>\n",
              "      <td>negative</td>\n",
              "      <td>NaN</td>\n",
              "    </tr>\n",
              "    <tr>\n",
              "      <th>1</th>\n",
              "      <td>negative</td>\n",
              "      <td>NaN</td>\n",
              "    </tr>\n",
              "    <tr>\n",
              "      <th>2</th>\n",
              "      <td>negative</td>\n",
              "      <td>NaN</td>\n",
              "    </tr>\n",
              "    <tr>\n",
              "      <th>3</th>\n",
              "      <td>negative</td>\n",
              "      <td>NaN</td>\n",
              "    </tr>\n",
              "    <tr>\n",
              "      <th>4</th>\n",
              "      <td>negative</td>\n",
              "      <td>NaN</td>\n",
              "    </tr>\n",
              "    <tr>\n",
              "      <th>...</th>\n",
              "      <td>...</td>\n",
              "      <td>...</td>\n",
              "    </tr>\n",
              "    <tr>\n",
              "      <th>5639</th>\n",
              "      <td>positive</td>\n",
              "      <td>NaN</td>\n",
              "    </tr>\n",
              "    <tr>\n",
              "      <th>5640</th>\n",
              "      <td>negative</td>\n",
              "      <td>NaN</td>\n",
              "    </tr>\n",
              "    <tr>\n",
              "      <th>5641</th>\n",
              "      <td>negative</td>\n",
              "      <td>NaN</td>\n",
              "    </tr>\n",
              "    <tr>\n",
              "      <th>5642</th>\n",
              "      <td>negative</td>\n",
              "      <td>-0.177169</td>\n",
              "    </tr>\n",
              "    <tr>\n",
              "      <th>5643</th>\n",
              "      <td>positive</td>\n",
              "      <td>NaN</td>\n",
              "    </tr>\n",
              "  </tbody>\n",
              "</table>\n",
              "<p>5644 rows × 2 columns</p>\n",
              "</div>"
            ],
            "text/plain": [
              "     SARS-Cov-2 exam result  Urine - Red blood cells\n",
              "0                  negative                      NaN\n",
              "1                  negative                      NaN\n",
              "2                  negative                      NaN\n",
              "3                  negative                      NaN\n",
              "4                  negative                      NaN\n",
              "...                     ...                      ...\n",
              "5639               positive                      NaN\n",
              "5640               negative                      NaN\n",
              "5641               negative                      NaN\n",
              "5642               negative                -0.177169\n",
              "5643               positive                      NaN\n",
              "\n",
              "[5644 rows x 2 columns]"
            ]
          },
          "metadata": {},
          "execution_count": 46
        }
      ]
    },
    {
      "cell_type": "code",
      "source": [
        "#Qual quantidade de Urine - Red blood cells quando o exame é positive e negative ?\n",
        "microdadosCovidExameResult = microdadosCovidExame.groupby('SARS-Cov-2 exam result').count().sort_values(by='Urine - Red blood cells')\n",
        "microdadosCovidExameResult"
      ],
      "metadata": {
        "colab": {
          "base_uri": "https://localhost:8080/",
          "height": 143
        },
        "id": "zO18bGLyiIMx",
        "outputId": "02729b33-e4cc-4470-9169-6b5d29d33e63"
      },
      "execution_count": 48,
      "outputs": [
        {
          "output_type": "execute_result",
          "data": {
            "text/html": [
              "<div>\n",
              "<style scoped>\n",
              "    .dataframe tbody tr th:only-of-type {\n",
              "        vertical-align: middle;\n",
              "    }\n",
              "\n",
              "    .dataframe tbody tr th {\n",
              "        vertical-align: top;\n",
              "    }\n",
              "\n",
              "    .dataframe thead th {\n",
              "        text-align: right;\n",
              "    }\n",
              "</style>\n",
              "<table border=\"1\" class=\"dataframe\">\n",
              "  <thead>\n",
              "    <tr style=\"text-align: right;\">\n",
              "      <th></th>\n",
              "      <th>Urine - Red blood cells</th>\n",
              "    </tr>\n",
              "    <tr>\n",
              "      <th>SARS-Cov-2 exam result</th>\n",
              "      <th></th>\n",
              "    </tr>\n",
              "  </thead>\n",
              "  <tbody>\n",
              "    <tr>\n",
              "      <th>positive</th>\n",
              "      <td>12</td>\n",
              "    </tr>\n",
              "    <tr>\n",
              "      <th>negative</th>\n",
              "      <td>58</td>\n",
              "    </tr>\n",
              "  </tbody>\n",
              "</table>\n",
              "</div>"
            ],
            "text/plain": [
              "                        Urine - Red blood cells\n",
              "SARS-Cov-2 exam result                         \n",
              "positive                                     12\n",
              "negative                                     58"
            ]
          },
          "metadata": {},
          "execution_count": 48
        }
      ]
    },
    {
      "cell_type": "code",
      "source": [
        "#Qual quantidade de Urine - Red blood cells quando o exame é positive e negative ? Gráfico\n",
        "microdadosCovidExameResult['Urine - Red blood cells'].plot(kind='pie', figsize=(5,5), autopct=\"%0.2f%%\", title=\"Resultado dos exames - Urine - Red blood cells\")"
      ],
      "metadata": {
        "colab": {
          "base_uri": "https://localhost:8080/",
          "height": 336
        },
        "id": "odRXhzlei1hO",
        "outputId": "1198aaf2-6f21-4688-c06e-78cdab57556e"
      },
      "execution_count": 49,
      "outputs": [
        {
          "output_type": "execute_result",
          "data": {
            "text/plain": [
              "<matplotlib.axes._subplots.AxesSubplot at 0x7ff6e131b710>"
            ]
          },
          "metadata": {},
          "execution_count": 49
        },
        {
          "output_type": "display_data",
          "data": {
            "image/png": "[encoded data removed]",
            "text/plain": [
              "<Figure size 360x360 with 1 Axes>"
            ]
          },
          "metadata": {}
        }
      ]
    },
    {
      "cell_type": "code",
      "source": [
        "neutrophils\n",
        "monocytes\n",
        "red blood cells\n",
        "Urine - Red blood cells\n"
      ],
      "metadata": {
        "id": "I_dpEDJ9-HX4"
      },
      "execution_count": null,
      "outputs": []
    }
  ]
}