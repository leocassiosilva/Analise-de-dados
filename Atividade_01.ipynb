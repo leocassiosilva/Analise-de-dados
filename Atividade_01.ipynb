{
  "nbformat": 4,
  "nbformat_minor": 0,
  "metadata": {
    "colab": {
      "name": "Atividade 01.ipynb",
      "provenance": [],
      "collapsed_sections": [],
      "authorship_tag": "ABX9TyPVq4oG+Jbtp62tC1RXPIFM",
      "include_colab_link": true
    },
    "kernelspec": {
      "name": "python3",
      "display_name": "Python 3"
    },
    "language_info": {
      "name": "python"
    }
  },
  "cells": [
    {
      "cell_type": "markdown",
      "metadata": {
        "id": "view-in-github",
        "colab_type": "text"
      },
      "source": [
        "<a href=\"https://colab.research.google.com/github/leocassiosilva/Analise-de-dados/blob/main/Atividade_01.ipynb\" target=\"_parent\"><img src=\"https://colab.research.google.com/assets/colab-badge.svg\" alt=\"Open In Colab\"/></a>"
      ]
    },
    {
      "cell_type": "markdown",
      "source": [
        "# Análise Exploratoria de dados"
      ],
      "metadata": {
        "id": "WTB6eBm2qH58"
      }
    },
    {
      "cell_type": "code",
      "metadata": {
        "id": "C2wCurH2AFAl"
      },
      "source": [
        "from google.colab import drive\n",
        "import pandas as pd\n",
        "import numpy as np\n",
        "import matplotlib.pyplot as plt"
      ],
      "execution_count": 1,
      "outputs": []
    },
    {
      "cell_type": "code",
      "metadata": {
        "colab": {
          "base_uri": "https://localhost:8080/"
        },
        "id": "I5Lky884APJ7",
        "outputId": "b7406808-62be-42db-c2a4-01d989e437ba"
      },
      "source": [
        "drive.mount('/content/drive')"
      ],
      "execution_count": 2,
      "outputs": [
        {
          "output_type": "stream",
          "name": "stdout",
          "text": [
            "Mounted at /content/drive\n"
          ]
        }
      ]
    },
    {
      "cell_type": "code",
      "metadata": {
        "colab": {
          "base_uri": "https://localhost:8080/",
          "height": 481
        },
        "id": "ekOwe7qbBFVY",
        "outputId": "82e15511-b893-40fe-f30f-01b8f8f968a8"
      },
      "source": [
        "df = pd.read_csv('/content/drive/MyDrive/metodos_quantitativos/Dados-Pesquisa.csv')\n",
        "\n",
        "df.head()[0:100]"
      ],
      "execution_count": 3,
      "outputs": [
        {
          "output_type": "stream",
          "name": "stderr",
          "text": [
            "/usr/local/lib/python3.7/dist-packages/IPython/core/interactiveshell.py:2718: DtypeWarning: Columns (21,57) have mixed types.Specify dtype option on import or set low_memory=False.\n",
            "  interactivity=interactivity, compiler=compiler, result=result)\n"
          ]
        },
        {
          "output_type": "execute_result",
          "data": {
            "text/html": [
              "<div>\n",
              "<style scoped>\n",
              "    .dataframe tbody tr th:only-of-type {\n",
              "        vertical-align: middle;\n",
              "    }\n",
              "\n",
              "    .dataframe tbody tr th {\n",
              "        vertical-align: top;\n",
              "    }\n",
              "\n",
              "    .dataframe thead th {\n",
              "        text-align: right;\n",
              "    }\n",
              "</style>\n",
              "<table border=\"1\" class=\"dataframe\">\n",
              "  <thead>\n",
              "    <tr style=\"text-align: right;\">\n",
              "      <th></th>\n",
              "      <th>Age</th>\n",
              "      <th>AttendedBootcamp</th>\n",
              "      <th>BootcampFinish</th>\n",
              "      <th>BootcampFullJobAfter</th>\n",
              "      <th>BootcampLoanYesNo</th>\n",
              "      <th>BootcampMonthsAgo</th>\n",
              "      <th>BootcampName</th>\n",
              "      <th>BootcampPostSalary</th>\n",
              "      <th>BootcampRecommend</th>\n",
              "      <th>ChildrenNumber</th>\n",
              "      <th>CityPopulation</th>\n",
              "      <th>CodeEventBootcamp</th>\n",
              "      <th>CodeEventCoffee</th>\n",
              "      <th>CodeEventConferences</th>\n",
              "      <th>CodeEventDjangoGirls</th>\n",
              "      <th>CodeEventGameJam</th>\n",
              "      <th>CodeEventGirlDev</th>\n",
              "      <th>CodeEventHackathons</th>\n",
              "      <th>CodeEventMeetup</th>\n",
              "      <th>CodeEventNodeSchool</th>\n",
              "      <th>CodeEventNone</th>\n",
              "      <th>CodeEventOther</th>\n",
              "      <th>CodeEventRailsBridge</th>\n",
              "      <th>CodeEventRailsGirls</th>\n",
              "      <th>CodeEventStartUpWknd</th>\n",
              "      <th>CodeEventWomenCode</th>\n",
              "      <th>CodeEventWorkshop</th>\n",
              "      <th>CommuteTime</th>\n",
              "      <th>CountryCitizen</th>\n",
              "      <th>CountryLive</th>\n",
              "      <th>EmploymentField</th>\n",
              "      <th>EmploymentFieldOther</th>\n",
              "      <th>EmploymentStatus</th>\n",
              "      <th>EmploymentStatusOther</th>\n",
              "      <th>ExpectedEarning</th>\n",
              "      <th>FinanciallySupporting</th>\n",
              "      <th>Gender</th>\n",
              "      <th>HasChildren</th>\n",
              "      <th>HasDebt</th>\n",
              "      <th>HasFinancialDependents</th>\n",
              "      <th>...</th>\n",
              "      <th>PodcastHanselminutes</th>\n",
              "      <th>PodcastJSJabber</th>\n",
              "      <th>PodcastJsAir</th>\n",
              "      <th>PodcastNone</th>\n",
              "      <th>PodcastOther</th>\n",
              "      <th>PodcastProgrammingThrowDown</th>\n",
              "      <th>PodcastRubyRogues</th>\n",
              "      <th>PodcastSEDaily</th>\n",
              "      <th>PodcastShopTalk</th>\n",
              "      <th>PodcastTalkPython</th>\n",
              "      <th>PodcastWebAhead</th>\n",
              "      <th>ResourceBlogs</th>\n",
              "      <th>ResourceBooks</th>\n",
              "      <th>ResourceCodeWars</th>\n",
              "      <th>ResourceCodecademy</th>\n",
              "      <th>ResourceCoursera</th>\n",
              "      <th>ResourceDevTips</th>\n",
              "      <th>ResourceEdX</th>\n",
              "      <th>ResourceEggHead</th>\n",
              "      <th>ResourceFCC</th>\n",
              "      <th>ResourceGoogle</th>\n",
              "      <th>ResourceHackerRank</th>\n",
              "      <th>ResourceKhanAcademy</th>\n",
              "      <th>ResourceLynda</th>\n",
              "      <th>ResourceMDN</th>\n",
              "      <th>ResourceOdinProj</th>\n",
              "      <th>ResourceOther</th>\n",
              "      <th>ResourcePluralSight</th>\n",
              "      <th>ResourceReddit</th>\n",
              "      <th>ResourceSkillCrush</th>\n",
              "      <th>ResourceSoloLearn</th>\n",
              "      <th>ResourceStackOverflow</th>\n",
              "      <th>ResourceTreehouse</th>\n",
              "      <th>ResourceUdacity</th>\n",
              "      <th>ResourceUdemy</th>\n",
              "      <th>ResourceW3Schools</th>\n",
              "      <th>ResourceYouTube</th>\n",
              "      <th>SchoolDegree</th>\n",
              "      <th>SchoolMajor</th>\n",
              "      <th>StudentDebtOwe</th>\n",
              "    </tr>\n",
              "  </thead>\n",
              "  <tbody>\n",
              "    <tr>\n",
              "      <th>0</th>\n",
              "      <td>28.0</td>\n",
              "      <td>0.0</td>\n",
              "      <td>NaN</td>\n",
              "      <td>NaN</td>\n",
              "      <td>NaN</td>\n",
              "      <td>NaN</td>\n",
              "      <td>NaN</td>\n",
              "      <td>NaN</td>\n",
              "      <td>NaN</td>\n",
              "      <td>NaN</td>\n",
              "      <td>between 100,000 and 1 million</td>\n",
              "      <td>NaN</td>\n",
              "      <td>NaN</td>\n",
              "      <td>NaN</td>\n",
              "      <td>NaN</td>\n",
              "      <td>NaN</td>\n",
              "      <td>NaN</td>\n",
              "      <td>NaN</td>\n",
              "      <td>NaN</td>\n",
              "      <td>NaN</td>\n",
              "      <td>NaN</td>\n",
              "      <td>NaN</td>\n",
              "      <td>NaN</td>\n",
              "      <td>NaN</td>\n",
              "      <td>NaN</td>\n",
              "      <td>NaN</td>\n",
              "      <td>NaN</td>\n",
              "      <td>35.0</td>\n",
              "      <td>United States of America</td>\n",
              "      <td>United States of America</td>\n",
              "      <td>office and administrative support</td>\n",
              "      <td>NaN</td>\n",
              "      <td>Employed for wages</td>\n",
              "      <td>NaN</td>\n",
              "      <td>NaN</td>\n",
              "      <td>0.0</td>\n",
              "      <td>male</td>\n",
              "      <td>0.0</td>\n",
              "      <td>1.0</td>\n",
              "      <td>1.0</td>\n",
              "      <td>...</td>\n",
              "      <td>NaN</td>\n",
              "      <td>NaN</td>\n",
              "      <td>NaN</td>\n",
              "      <td>1.0</td>\n",
              "      <td>NaN</td>\n",
              "      <td>NaN</td>\n",
              "      <td>NaN</td>\n",
              "      <td>NaN</td>\n",
              "      <td>NaN</td>\n",
              "      <td>NaN</td>\n",
              "      <td>NaN</td>\n",
              "      <td>NaN</td>\n",
              "      <td>NaN</td>\n",
              "      <td>NaN</td>\n",
              "      <td>NaN</td>\n",
              "      <td>1.0</td>\n",
              "      <td>NaN</td>\n",
              "      <td>NaN</td>\n",
              "      <td>NaN</td>\n",
              "      <td>1.0</td>\n",
              "      <td>NaN</td>\n",
              "      <td>NaN</td>\n",
              "      <td>NaN</td>\n",
              "      <td>NaN</td>\n",
              "      <td>NaN</td>\n",
              "      <td>NaN</td>\n",
              "      <td>NaN</td>\n",
              "      <td>NaN</td>\n",
              "      <td>NaN</td>\n",
              "      <td>NaN</td>\n",
              "      <td>NaN</td>\n",
              "      <td>NaN</td>\n",
              "      <td>NaN</td>\n",
              "      <td>NaN</td>\n",
              "      <td>NaN</td>\n",
              "      <td>NaN</td>\n",
              "      <td>NaN</td>\n",
              "      <td>some college credit, no degree</td>\n",
              "      <td>NaN</td>\n",
              "      <td>20000.0</td>\n",
              "    </tr>\n",
              "    <tr>\n",
              "      <th>1</th>\n",
              "      <td>22.0</td>\n",
              "      <td>0.0</td>\n",
              "      <td>NaN</td>\n",
              "      <td>NaN</td>\n",
              "      <td>NaN</td>\n",
              "      <td>NaN</td>\n",
              "      <td>NaN</td>\n",
              "      <td>NaN</td>\n",
              "      <td>NaN</td>\n",
              "      <td>NaN</td>\n",
              "      <td>between 100,000 and 1 million</td>\n",
              "      <td>NaN</td>\n",
              "      <td>NaN</td>\n",
              "      <td>NaN</td>\n",
              "      <td>NaN</td>\n",
              "      <td>NaN</td>\n",
              "      <td>NaN</td>\n",
              "      <td>NaN</td>\n",
              "      <td>NaN</td>\n",
              "      <td>NaN</td>\n",
              "      <td>NaN</td>\n",
              "      <td>NaN</td>\n",
              "      <td>NaN</td>\n",
              "      <td>NaN</td>\n",
              "      <td>NaN</td>\n",
              "      <td>NaN</td>\n",
              "      <td>NaN</td>\n",
              "      <td>90.0</td>\n",
              "      <td>United States of America</td>\n",
              "      <td>United States of America</td>\n",
              "      <td>food and beverage</td>\n",
              "      <td>NaN</td>\n",
              "      <td>Employed for wages</td>\n",
              "      <td>NaN</td>\n",
              "      <td>50000.0</td>\n",
              "      <td>NaN</td>\n",
              "      <td>male</td>\n",
              "      <td>NaN</td>\n",
              "      <td>0.0</td>\n",
              "      <td>0.0</td>\n",
              "      <td>...</td>\n",
              "      <td>NaN</td>\n",
              "      <td>NaN</td>\n",
              "      <td>NaN</td>\n",
              "      <td>NaN</td>\n",
              "      <td>Front-end happy hour</td>\n",
              "      <td>NaN</td>\n",
              "      <td>NaN</td>\n",
              "      <td>NaN</td>\n",
              "      <td>NaN</td>\n",
              "      <td>NaN</td>\n",
              "      <td>NaN</td>\n",
              "      <td>NaN</td>\n",
              "      <td>NaN</td>\n",
              "      <td>NaN</td>\n",
              "      <td>NaN</td>\n",
              "      <td>1.0</td>\n",
              "      <td>NaN</td>\n",
              "      <td>NaN</td>\n",
              "      <td>NaN</td>\n",
              "      <td>1.0</td>\n",
              "      <td>NaN</td>\n",
              "      <td>NaN</td>\n",
              "      <td>NaN</td>\n",
              "      <td>NaN</td>\n",
              "      <td>NaN</td>\n",
              "      <td>NaN</td>\n",
              "      <td>NaN</td>\n",
              "      <td>NaN</td>\n",
              "      <td>NaN</td>\n",
              "      <td>NaN</td>\n",
              "      <td>NaN</td>\n",
              "      <td>NaN</td>\n",
              "      <td>NaN</td>\n",
              "      <td>NaN</td>\n",
              "      <td>1.0</td>\n",
              "      <td>NaN</td>\n",
              "      <td>NaN</td>\n",
              "      <td>some college credit, no degree</td>\n",
              "      <td>NaN</td>\n",
              "      <td>NaN</td>\n",
              "    </tr>\n",
              "    <tr>\n",
              "      <th>2</th>\n",
              "      <td>19.0</td>\n",
              "      <td>0.0</td>\n",
              "      <td>NaN</td>\n",
              "      <td>NaN</td>\n",
              "      <td>NaN</td>\n",
              "      <td>NaN</td>\n",
              "      <td>NaN</td>\n",
              "      <td>NaN</td>\n",
              "      <td>NaN</td>\n",
              "      <td>NaN</td>\n",
              "      <td>more than 1 million</td>\n",
              "      <td>NaN</td>\n",
              "      <td>1.0</td>\n",
              "      <td>NaN</td>\n",
              "      <td>NaN</td>\n",
              "      <td>NaN</td>\n",
              "      <td>NaN</td>\n",
              "      <td>NaN</td>\n",
              "      <td>NaN</td>\n",
              "      <td>NaN</td>\n",
              "      <td>NaN</td>\n",
              "      <td>NaN</td>\n",
              "      <td>NaN</td>\n",
              "      <td>NaN</td>\n",
              "      <td>NaN</td>\n",
              "      <td>NaN</td>\n",
              "      <td>NaN</td>\n",
              "      <td>45.0</td>\n",
              "      <td>United States of America</td>\n",
              "      <td>United States of America</td>\n",
              "      <td>finance</td>\n",
              "      <td>NaN</td>\n",
              "      <td>Employed for wages</td>\n",
              "      <td>NaN</td>\n",
              "      <td>NaN</td>\n",
              "      <td>NaN</td>\n",
              "      <td>male</td>\n",
              "      <td>NaN</td>\n",
              "      <td>0.0</td>\n",
              "      <td>0.0</td>\n",
              "      <td>...</td>\n",
              "      <td>NaN</td>\n",
              "      <td>NaN</td>\n",
              "      <td>NaN</td>\n",
              "      <td>1.0</td>\n",
              "      <td>NaN</td>\n",
              "      <td>NaN</td>\n",
              "      <td>NaN</td>\n",
              "      <td>NaN</td>\n",
              "      <td>NaN</td>\n",
              "      <td>NaN</td>\n",
              "      <td>NaN</td>\n",
              "      <td>NaN</td>\n",
              "      <td>NaN</td>\n",
              "      <td>NaN</td>\n",
              "      <td>1.0</td>\n",
              "      <td>NaN</td>\n",
              "      <td>NaN</td>\n",
              "      <td>NaN</td>\n",
              "      <td>NaN</td>\n",
              "      <td>1.0</td>\n",
              "      <td>NaN</td>\n",
              "      <td>NaN</td>\n",
              "      <td>1.0</td>\n",
              "      <td>NaN</td>\n",
              "      <td>NaN</td>\n",
              "      <td>1.0</td>\n",
              "      <td>NaN</td>\n",
              "      <td>NaN</td>\n",
              "      <td>NaN</td>\n",
              "      <td>NaN</td>\n",
              "      <td>NaN</td>\n",
              "      <td>NaN</td>\n",
              "      <td>NaN</td>\n",
              "      <td>NaN</td>\n",
              "      <td>NaN</td>\n",
              "      <td>NaN</td>\n",
              "      <td>NaN</td>\n",
              "      <td>high school diploma or equivalent (GED)</td>\n",
              "      <td>NaN</td>\n",
              "      <td>NaN</td>\n",
              "    </tr>\n",
              "    <tr>\n",
              "      <th>3</th>\n",
              "      <td>26.0</td>\n",
              "      <td>0.0</td>\n",
              "      <td>NaN</td>\n",
              "      <td>NaN</td>\n",
              "      <td>NaN</td>\n",
              "      <td>NaN</td>\n",
              "      <td>NaN</td>\n",
              "      <td>NaN</td>\n",
              "      <td>NaN</td>\n",
              "      <td>NaN</td>\n",
              "      <td>more than 1 million</td>\n",
              "      <td>NaN</td>\n",
              "      <td>NaN</td>\n",
              "      <td>NaN</td>\n",
              "      <td>NaN</td>\n",
              "      <td>NaN</td>\n",
              "      <td>NaN</td>\n",
              "      <td>NaN</td>\n",
              "      <td>NaN</td>\n",
              "      <td>NaN</td>\n",
              "      <td>NaN</td>\n",
              "      <td>NaN</td>\n",
              "      <td>NaN</td>\n",
              "      <td>NaN</td>\n",
              "      <td>NaN</td>\n",
              "      <td>1.0</td>\n",
              "      <td>NaN</td>\n",
              "      <td>45.0</td>\n",
              "      <td>United States of America</td>\n",
              "      <td>United States of America</td>\n",
              "      <td>arts, entertainment, sports, or media</td>\n",
              "      <td>NaN</td>\n",
              "      <td>Employed for wages</td>\n",
              "      <td>NaN</td>\n",
              "      <td>65000.0</td>\n",
              "      <td>NaN</td>\n",
              "      <td>female</td>\n",
              "      <td>NaN</td>\n",
              "      <td>1.0</td>\n",
              "      <td>0.0</td>\n",
              "      <td>...</td>\n",
              "      <td>NaN</td>\n",
              "      <td>NaN</td>\n",
              "      <td>NaN</td>\n",
              "      <td>1.0</td>\n",
              "      <td>NaN</td>\n",
              "      <td>NaN</td>\n",
              "      <td>NaN</td>\n",
              "      <td>NaN</td>\n",
              "      <td>NaN</td>\n",
              "      <td>NaN</td>\n",
              "      <td>NaN</td>\n",
              "      <td>NaN</td>\n",
              "      <td>NaN</td>\n",
              "      <td>NaN</td>\n",
              "      <td>1.0</td>\n",
              "      <td>NaN</td>\n",
              "      <td>NaN</td>\n",
              "      <td>NaN</td>\n",
              "      <td>NaN</td>\n",
              "      <td>1.0</td>\n",
              "      <td>NaN</td>\n",
              "      <td>NaN</td>\n",
              "      <td>1.0</td>\n",
              "      <td>NaN</td>\n",
              "      <td>NaN</td>\n",
              "      <td>NaN</td>\n",
              "      <td>NaN</td>\n",
              "      <td>NaN</td>\n",
              "      <td>NaN</td>\n",
              "      <td>NaN</td>\n",
              "      <td>NaN</td>\n",
              "      <td>NaN</td>\n",
              "      <td>NaN</td>\n",
              "      <td>NaN</td>\n",
              "      <td>NaN</td>\n",
              "      <td>NaN</td>\n",
              "      <td>NaN</td>\n",
              "      <td>bachelor's degree</td>\n",
              "      <td>Cinematography And Film</td>\n",
              "      <td>7000.0</td>\n",
              "    </tr>\n",
              "    <tr>\n",
              "      <th>4</th>\n",
              "      <td>20.0</td>\n",
              "      <td>0.0</td>\n",
              "      <td>NaN</td>\n",
              "      <td>NaN</td>\n",
              "      <td>NaN</td>\n",
              "      <td>NaN</td>\n",
              "      <td>NaN</td>\n",
              "      <td>NaN</td>\n",
              "      <td>NaN</td>\n",
              "      <td>NaN</td>\n",
              "      <td>between 100,000 and 1 million</td>\n",
              "      <td>NaN</td>\n",
              "      <td>NaN</td>\n",
              "      <td>NaN</td>\n",
              "      <td>NaN</td>\n",
              "      <td>NaN</td>\n",
              "      <td>NaN</td>\n",
              "      <td>NaN</td>\n",
              "      <td>NaN</td>\n",
              "      <td>NaN</td>\n",
              "      <td>NaN</td>\n",
              "      <td>NaN</td>\n",
              "      <td>NaN</td>\n",
              "      <td>NaN</td>\n",
              "      <td>NaN</td>\n",
              "      <td>NaN</td>\n",
              "      <td>NaN</td>\n",
              "      <td>10.0</td>\n",
              "      <td>United States of America</td>\n",
              "      <td>United States of America</td>\n",
              "      <td>education</td>\n",
              "      <td>NaN</td>\n",
              "      <td>Employed for wages</td>\n",
              "      <td>NaN</td>\n",
              "      <td>45000.0</td>\n",
              "      <td>NaN</td>\n",
              "      <td>female</td>\n",
              "      <td>NaN</td>\n",
              "      <td>1.0</td>\n",
              "      <td>0.0</td>\n",
              "      <td>...</td>\n",
              "      <td>NaN</td>\n",
              "      <td>NaN</td>\n",
              "      <td>NaN</td>\n",
              "      <td>1.0</td>\n",
              "      <td>NaN</td>\n",
              "      <td>NaN</td>\n",
              "      <td>NaN</td>\n",
              "      <td>NaN</td>\n",
              "      <td>NaN</td>\n",
              "      <td>NaN</td>\n",
              "      <td>NaN</td>\n",
              "      <td>NaN</td>\n",
              "      <td>NaN</td>\n",
              "      <td>NaN</td>\n",
              "      <td>1.0</td>\n",
              "      <td>NaN</td>\n",
              "      <td>NaN</td>\n",
              "      <td>NaN</td>\n",
              "      <td>NaN</td>\n",
              "      <td>1.0</td>\n",
              "      <td>NaN</td>\n",
              "      <td>NaN</td>\n",
              "      <td>NaN</td>\n",
              "      <td>NaN</td>\n",
              "      <td>NaN</td>\n",
              "      <td>NaN</td>\n",
              "      <td>NaN</td>\n",
              "      <td>NaN</td>\n",
              "      <td>NaN</td>\n",
              "      <td>NaN</td>\n",
              "      <td>NaN</td>\n",
              "      <td>NaN</td>\n",
              "      <td>NaN</td>\n",
              "      <td>NaN</td>\n",
              "      <td>NaN</td>\n",
              "      <td>NaN</td>\n",
              "      <td>NaN</td>\n",
              "      <td>some college credit, no degree</td>\n",
              "      <td>NaN</td>\n",
              "      <td>NaN</td>\n",
              "    </tr>\n",
              "  </tbody>\n",
              "</table>\n",
              "<p>5 rows × 113 columns</p>\n",
              "</div>"
            ],
            "text/plain": [
              "    Age  AttendedBootcamp  ...              SchoolMajor  StudentDebtOwe\n",
              "0  28.0               0.0  ...                      NaN         20000.0\n",
              "1  22.0               0.0  ...                      NaN             NaN\n",
              "2  19.0               0.0  ...                      NaN             NaN\n",
              "3  26.0               0.0  ...  Cinematography And Film          7000.0\n",
              "4  20.0               0.0  ...                      NaN             NaN\n",
              "\n",
              "[5 rows x 113 columns]"
            ]
          },
          "metadata": {},
          "execution_count": 3
        }
      ]
    },
    {
      "cell_type": "markdown",
      "metadata": {
        "id": "1ZmO8Xc9oIx_"
      },
      "source": [
        "---\n"
      ]
    },
    {
      "cell_type": "markdown",
      "source": [
        "# INFORMAÇÔES E GRÁFICOS"
      ],
      "metadata": {
        "id": "suVfAc8iqXk4"
      }
    },
    {
      "cell_type": "markdown",
      "metadata": {
        "id": "hJDdWt6gmbaZ"
      },
      "source": [
        "**Tipo dos dados**"
      ]
    },
    {
      "cell_type": "code",
      "metadata": {
        "colab": {
          "base_uri": "https://localhost:8080/"
        },
        "id": "n2yExW7Klzez",
        "outputId": "28ad4a27-b220-4d68-e940-db26b013d57f"
      },
      "source": [
        "df.dtypes[0:40]"
      ],
      "execution_count": null,
      "outputs": [
        {
          "output_type": "execute_result",
          "data": {
            "text/plain": [
              "Age                       float64\n",
              "AttendedBootcamp          float64\n",
              "BootcampFinish            float64\n",
              "BootcampFullJobAfter      float64\n",
              "BootcampLoanYesNo         float64\n",
              "BootcampMonthsAgo         float64\n",
              "BootcampName               object\n",
              "BootcampPostSalary        float64\n",
              "BootcampRecommend         float64\n",
              "ChildrenNumber            float64\n",
              "CityPopulation             object\n",
              "CodeEventBootcamp         float64\n",
              "CodeEventCoffee           float64\n",
              "CodeEventConferences      float64\n",
              "CodeEventDjangoGirls      float64\n",
              "CodeEventGameJam          float64\n",
              "CodeEventGirlDev          float64\n",
              "CodeEventHackathons       float64\n",
              "CodeEventMeetup           float64\n",
              "CodeEventNodeSchool       float64\n",
              "CodeEventNone             float64\n",
              "CodeEventOther             object\n",
              "CodeEventRailsBridge      float64\n",
              "CodeEventRailsGirls       float64\n",
              "CodeEventStartUpWknd      float64\n",
              "CodeEventWomenCode        float64\n",
              "CodeEventWorkshop         float64\n",
              "CommuteTime               float64\n",
              "CountryCitizen             object\n",
              "CountryLive                object\n",
              "EmploymentField            object\n",
              "EmploymentFieldOther       object\n",
              "EmploymentStatus           object\n",
              "EmploymentStatusOther      object\n",
              "ExpectedEarning           float64\n",
              "FinanciallySupporting     float64\n",
              "Gender                     object\n",
              "HasChildren               float64\n",
              "HasDebt                   float64\n",
              "HasFinancialDependents    float64\n",
              "dtype: object"
            ]
          },
          "metadata": {},
          "execution_count": 4
        }
      ]
    },
    {
      "cell_type": "markdown",
      "metadata": {
        "id": "8D-ThBaWoD-h"
      },
      "source": [
        "---\n"
      ]
    },
    {
      "cell_type": "markdown",
      "source": [
        "\n",
        "\n",
        "# Soma dos número nulos"
      ],
      "metadata": {
        "id": "6tyfe9xw8-H3"
      }
    },
    {
      "cell_type": "code",
      "metadata": {
        "colab": {
          "base_uri": "https://localhost:8080/"
        },
        "id": "6Tu0NTsQm1RG",
        "outputId": "55f17cdd-82a7-4728-dde2-2b6daf5875bd"
      },
      "source": [
        "df.isnull().sum()[0:40]"
      ],
      "execution_count": null,
      "outputs": [
        {
          "output_type": "execute_result",
          "data": {
            "text/plain": [
              "Age                        2007\n",
              "AttendedBootcamp            240\n",
              "BootcampFinish            14687\n",
              "BootcampFullJobAfter      14985\n",
              "BootcampLoanYesNo         14686\n",
              "BootcampMonthsAgo         14989\n",
              "BootcampName              14725\n",
              "BootcampPostSalary        15290\n",
              "BootcampRecommend         14683\n",
              "ChildrenNumber            13066\n",
              "CityPopulation             1990\n",
              "CodeEventBootcamp         15578\n",
              "CodeEventCoffee           13543\n",
              "CodeEventConferences      12722\n",
              "CodeEventDjangoGirls      15602\n",
              "CodeEventGameJam          15598\n",
              "CodeEventGirlDev          15062\n",
              "CodeEventHackathons       13198\n",
              "CodeEventMeetup           15307\n",
              "CodeEventNodeSchool       15140\n",
              "CodeEventNone              6720\n",
              "CodeEventOther            14699\n",
              "CodeEventRailsBridge      15365\n",
              "CodeEventRailsGirls       15606\n",
              "CodeEventStartUpWknd      14877\n",
              "CodeEventWomenCode        14909\n",
              "CodeEventWorkshop         15597\n",
              "CommuteTime                7281\n",
              "CountryCitizen             1966\n",
              "CountryLive                2010\n",
              "EmploymentField            8012\n",
              "EmploymentFieldOther      14565\n",
              "EmploymentStatus           2716\n",
              "EmploymentStatusOther     14939\n",
              "ExpectedEarning            9543\n",
              "FinanciallySupporting     11624\n",
              "Gender                     1874\n",
              "HasChildren               11608\n",
              "HasDebt                    2010\n",
              "HasFinancialDependents     1980\n",
              "dtype: int64"
            ]
          },
          "metadata": {},
          "execution_count": 5
        }
      ]
    },
    {
      "cell_type": "markdown",
      "metadata": {
        "id": "9xWt9rE1o41j"
      },
      "source": [
        "---\n"
      ]
    },
    {
      "cell_type": "markdown",
      "source": [
        "# Valores da coluna Age"
      ],
      "metadata": {
        "id": "UQxVVSWx9JJQ"
      }
    },
    {
      "cell_type": "code",
      "metadata": {
        "id": "ApdGAKpXdTgT"
      },
      "source": [
        "coluna_age = df['Age']"
      ],
      "execution_count": null,
      "outputs": []
    },
    {
      "cell_type": "code",
      "metadata": {
        "colab": {
          "base_uri": "https://localhost:8080/"
        },
        "id": "1G00cj_fdjzc",
        "outputId": "8235d560-2aee-4da7-f327-c0f196a01405"
      },
      "source": [
        "coluna_age[0:40]"
      ],
      "execution_count": null,
      "outputs": [
        {
          "output_type": "execute_result",
          "data": {
            "text/plain": [
              "0     28.0\n",
              "1     22.0\n",
              "2     19.0\n",
              "3     26.0\n",
              "4     20.0\n",
              "5     34.0\n",
              "6     23.0\n",
              "7     35.0\n",
              "8     33.0\n",
              "9     33.0\n",
              "10    57.0\n",
              "11    23.0\n",
              "12    47.0\n",
              "13     NaN\n",
              "14    37.0\n",
              "15    31.0\n",
              "16    27.0\n",
              "17    29.0\n",
              "18    30.0\n",
              "19    30.0\n",
              "20    32.0\n",
              "21    25.0\n",
              "22    29.0\n",
              "23    44.0\n",
              "24    21.0\n",
              "25    21.0\n",
              "26    28.0\n",
              "27    28.0\n",
              "28    25.0\n",
              "29    35.0\n",
              "30    24.0\n",
              "31    23.0\n",
              "32    34.0\n",
              "33    18.0\n",
              "34    33.0\n",
              "35    28.0\n",
              "36    33.0\n",
              "37    26.0\n",
              "38    24.0\n",
              "39    39.0\n",
              "Name: Age, dtype: float64"
            ]
          },
          "metadata": {},
          "execution_count": 7
        }
      ]
    },
    {
      "cell_type": "code",
      "metadata": {
        "colab": {
          "base_uri": "https://localhost:8080/",
          "height": 541
        },
        "id": "jt6zRWfgU6Q7",
        "outputId": "5e80ba3f-da24-4803-dd65-faeab4ec2bec"
      },
      "source": [
        "#df.groupby(['Age']).Age.count().sort_values().plot(kind='pie')\n",
        "\n",
        "plt.style.use(\"ggplot\")\n",
        "plt.figure(figsize = (30, 12))\n",
        "df[\"Age\"].hist(bins = 40, ec = \"k\", alpha = .6, color = \"royalblue\")\n",
        "plt.title(\"Age\")"
      ],
      "execution_count": 22,
      "outputs": [
        {
          "output_type": "execute_result",
          "data": {
            "text/plain": [
              "Text(0.5, 1.0, 'Age')"
            ]
          },
          "metadata": {},
          "execution_count": 22
        },
        {
          "output_type": "display_data",
          "data": {
            "image/png": "[encoded data removed]",
            "text/plain": [
              "<Figure size 2160x864 with 1 Axes>"
            ]
          },
          "metadata": {}
        }
      ]
    },
    {
      "cell_type": "markdown",
      "metadata": {
        "id": "Fx_Yf6EHo-Fc"
      },
      "source": [
        "---\n"
      ]
    },
    {
      "cell_type": "markdown",
      "source": [
        "# Quantidade de valores que se repete"
      ],
      "metadata": {
        "id": "B2KQtelN-_jp"
      }
    },
    {
      "cell_type": "code",
      "metadata": {
        "colab": {
          "base_uri": "https://localhost:8080/"
        },
        "id": "MH9eLs16d6fm",
        "outputId": "a614dea0-7dc6-4bd8-cbae-c0f32f98aee4"
      },
      "source": [
        "#Quantidade de valores que se repete usando o metodo do bandas counts\n",
        "coluna_age.value_counts()"
      ],
      "execution_count": null,
      "outputs": [
        {
          "output_type": "execute_result",
          "data": {
            "text/plain": [
              "25.0    847\n",
              "24.0    833\n",
              "26.0    760\n",
              "23.0    753\n",
              "28.0    744\n",
              "       ... \n",
              "72.0      2\n",
              "67.0      2\n",
              "80.0      1\n",
              "86.0      1\n",
              "71.0      1\n",
              "Name: Age, Length: 67, dtype: int64"
            ]
          },
          "metadata": {},
          "execution_count": 9
        }
      ]
    },
    {
      "cell_type": "markdown",
      "source": [
        "# Media da coluna Age"
      ],
      "metadata": {
        "id": "I6pPIgECGF5u"
      }
    },
    {
      "cell_type": "markdown",
      "metadata": {
        "id": "YQZwLmSFo_Kk"
      },
      "source": [
        "---\n"
      ]
    },
    {
      "cell_type": "code",
      "metadata": {
        "colab": {
          "base_uri": "https://localhost:8080/"
        },
        "id": "McNQJzrmeZFs",
        "outputId": "ceed700c-00ad-4811-a978-81fd6e706a3a"
      },
      "source": [
        "#Fazendo a media dos dados da coluna Age\n",
        "mean_df = df['Age'].mean()\n",
        "print(mean_df)"
      ],
      "execution_count": null,
      "outputs": [
        {
          "output_type": "stream",
          "name": "stdout",
          "text": [
            "29.17542055388232\n"
          ]
        }
      ]
    },
    {
      "cell_type": "markdown",
      "metadata": {
        "id": "LxSBNrdGo_yA"
      },
      "source": [
        "---\n"
      ]
    },
    {
      "cell_type": "code",
      "metadata": {
        "colab": {
          "base_uri": "https://localhost:8080/"
        },
        "id": "ZqbcP6KTMH49",
        "outputId": "db2ba544-02b6-4508-b560-d3ac68118197"
      },
      "source": [
        "coluna_CityPopulation = df['CityPopulation']\n",
        "coluna_CityPopulation[0:40]\n"
      ],
      "execution_count": null,
      "outputs": [
        {
          "output_type": "execute_result",
          "data": {
            "text/plain": [
              "0     between 100,000 and 1 million\n",
              "1     between 100,000 and 1 million\n",
              "2               more than 1 million\n",
              "3               more than 1 million\n",
              "4     between 100,000 and 1 million\n",
              "5               more than 1 million\n",
              "6               more than 1 million\n",
              "7     between 100,000 and 1 million\n",
              "8     between 100,000 and 1 million\n",
              "9               more than 1 million\n",
              "10                less than 100,000\n",
              "11              more than 1 million\n",
              "12              more than 1 million\n",
              "13    between 100,000 and 1 million\n",
              "14    between 100,000 and 1 million\n",
              "15              more than 1 million\n",
              "16              more than 1 million\n",
              "17                less than 100,000\n",
              "18              more than 1 million\n",
              "19                less than 100,000\n",
              "20              more than 1 million\n",
              "21    between 100,000 and 1 million\n",
              "22    between 100,000 and 1 million\n",
              "23              more than 1 million\n",
              "24              more than 1 million\n",
              "25    between 100,000 and 1 million\n",
              "26                less than 100,000\n",
              "27              more than 1 million\n",
              "28    between 100,000 and 1 million\n",
              "29                less than 100,000\n",
              "30              more than 1 million\n",
              "31              more than 1 million\n",
              "32              more than 1 million\n",
              "33                less than 100,000\n",
              "34                less than 100,000\n",
              "35              more than 1 million\n",
              "36    between 100,000 and 1 million\n",
              "37                less than 100,000\n",
              "38              more than 1 million\n",
              "39    between 100,000 and 1 million\n",
              "Name: CityPopulation, dtype: object"
            ]
          },
          "metadata": {},
          "execution_count": 11
        }
      ]
    },
    {
      "cell_type": "markdown",
      "metadata": {
        "id": "965rdyIhSfIr"
      },
      "source": [
        "---\n"
      ]
    },
    {
      "cell_type": "markdown",
      "source": [
        "# Contando quantas vezes um determinado valor se repete na coluna CityPopulation"
      ],
      "metadata": {
        "id": "oRKEQjQtL5ut"
      }
    },
    {
      "cell_type": "code",
      "metadata": {
        "colab": {
          "base_uri": "https://localhost:8080/"
        },
        "id": "mYfe4fgqMQPd",
        "outputId": "8b22f5ec-0fc2-45fa-f4a3-897d6b86c712"
      },
      "source": [
        "colunaCitypopulation = coluna_CityPopulation.value_counts()\n",
        "colunaCitypopulation"
      ],
      "execution_count": null,
      "outputs": [
        {
          "output_type": "execute_result",
          "data": {
            "text/plain": [
              "more than 1 million              5558\n",
              "between 100,000 and 1 million    4917\n",
              "less than 100,000                3155\n",
              "Name: CityPopulation, dtype: int64"
            ]
          },
          "metadata": {},
          "execution_count": 12
        }
      ]
    },
    {
      "cell_type": "code",
      "source": [
        "colunaCitypopulation.plot.pie()"
      ],
      "metadata": {
        "colab": {
          "base_uri": "https://localhost:8080/",
          "height": 265
        },
        "id": "MJhQrI3B5Vr_",
        "outputId": "775cce0c-698e-448e-92a3-6100557a5619"
      },
      "execution_count": null,
      "outputs": [
        {
          "output_type": "execute_result",
          "data": {
            "text/plain": [
              "<matplotlib.axes._subplots.AxesSubplot at 0x7f4a0e5b9310>"
            ]
          },
          "metadata": {},
          "execution_count": 24
        },
        {
          "output_type": "display_data",
          "data": {
            "image/png": "[encoded data removed]",
            "text/plain": [
              "<Figure size 432x288 with 1 Axes>"
            ]
          },
          "metadata": {}
        }
      ]
    },
    {
      "cell_type": "code",
      "metadata": {
        "colab": {
          "base_uri": "https://localhost:8080/"
        },
        "id": "vEdlTTYTSOUv",
        "outputId": "2992a099-776f-4550-f121-d9f44b1c3950"
      },
      "source": [
        "mean_df = colunaCitypopulation.mean()\n",
        "print(mean_df)"
      ],
      "execution_count": null,
      "outputs": [
        {
          "output_type": "stream",
          "name": "stdout",
          "text": [
            "4543.333333333333\n"
          ]
        }
      ]
    },
    {
      "cell_type": "markdown",
      "metadata": {
        "id": "yfqAqEGI6zJY"
      },
      "source": [
        "---\n"
      ]
    },
    {
      "cell_type": "markdown",
      "source": [
        "# EmploymentStatus"
      ],
      "metadata": {
        "id": "om8QeLHPL-lx"
      }
    },
    {
      "cell_type": "code",
      "source": [
        "#EmploymentStatus\n",
        "coluna_EmploymentStatus = df['EmploymentStatus']\n",
        "coluna_EmploymentStatus[0:40]\n",
        "\n"
      ],
      "metadata": {
        "colab": {
          "base_uri": "https://localhost:8080/"
        },
        "id": "dYa8Grgp6tRD",
        "outputId": "7cf3b3da-36f7-4bfd-81bf-f54a057d8e45"
      },
      "execution_count": null,
      "outputs": [
        {
          "output_type": "execute_result",
          "data": {
            "text/plain": [
              "0                       Employed for wages\n",
              "1                       Employed for wages\n",
              "2                       Employed for wages\n",
              "3                       Employed for wages\n",
              "4                       Employed for wages\n",
              "5                 Self-employed freelancer\n",
              "6                       Employed for wages\n",
              "7                       Employed for wages\n",
              "8                       Employed for wages\n",
              "9                       Employed for wages\n",
              "10            Self-employed business owner\n",
              "11    Not working and not looking for work\n",
              "12                      Employed for wages\n",
              "13                      Employed for wages\n",
              "14            Self-employed business owner\n",
              "15                      Employed for wages\n",
              "16                      Employed for wages\n",
              "17                      Employed for wages\n",
              "18                Self-employed freelancer\n",
              "19        Not working but looking for work\n",
              "20                      Employed for wages\n",
              "21              Doing an unpaid internship\n",
              "22                      Employed for wages\n",
              "23                      Employed for wages\n",
              "24        Not working but looking for work\n",
              "25        Not working but looking for work\n",
              "26                Self-employed freelancer\n",
              "27                      Employed for wages\n",
              "28                      Employed for wages\n",
              "29                      Employed for wages\n",
              "30              Doing an unpaid internship\n",
              "31      A stay-at-home parent or homemaker\n",
              "32              Doing an unpaid internship\n",
              "33                      Employed for wages\n",
              "34                      Employed for wages\n",
              "35                      Employed for wages\n",
              "36                Self-employed freelancer\n",
              "37                      Employed for wages\n",
              "38                      Employed for wages\n",
              "39                      Employed for wages\n",
              "Name: EmploymentStatus, dtype: object"
            ]
          },
          "metadata": {},
          "execution_count": 20
        }
      ]
    },
    {
      "cell_type": "code",
      "source": [
        "colunaEmploymentStatus = coluna_EmploymentStatus.value_counts()\n",
        "colunaEmploymentStatus\n",
        "colunaEmploymentStatus.plot.bar(color='b')"
      ],
      "metadata": {
        "colab": {
          "base_uri": "https://localhost:8080/",
          "height": 460
        },
        "id": "6cM4zVTI8D_u",
        "outputId": "3b7ef768-5f86-4f72-9696-4562cafa7e36"
      },
      "execution_count": null,
      "outputs": [
        {
          "output_type": "execute_result",
          "data": {
            "text/plain": [
              "<matplotlib.axes._subplots.AxesSubplot at 0x7f4a0eb74f50>"
            ]
          },
          "metadata": {},
          "execution_count": 21
        },
        {
          "output_type": "display_data",
          "data": {
            "image/png": "[encoded data removed]",
            "text/plain": [
              "<Figure size 432x288 with 1 Axes>"
            ]
          },
          "metadata": {
            "needs_background": "light"
          }
        }
      ]
    },
    {
      "cell_type": "markdown",
      "metadata": {
        "id": "VG32HOKT91qi"
      },
      "source": [
        "---\n"
      ]
    },
    {
      "cell_type": "markdown",
      "source": [
        "# CommuteTime"
      ],
      "metadata": {
        "id": "fZKupHfKMEd6"
      }
    },
    {
      "cell_type": "code",
      "source": [
        "#CommuteTime\n",
        "coluna_CommuteTime = df['CommuteTime']\n",
        "coluna_CommuteTime"
      ],
      "metadata": {
        "colab": {
          "base_uri": "https://localhost:8080/"
        },
        "id": "cPYX6Jgg9uay",
        "outputId": "d909ead3-86fb-4de7-dae7-dfddbeec37db"
      },
      "execution_count": null,
      "outputs": [
        {
          "output_type": "execute_result",
          "data": {
            "text/plain": [
              "0         35.0\n",
              "1         90.0\n",
              "2         45.0\n",
              "3         45.0\n",
              "4         10.0\n",
              "         ...  \n",
              "15615      NaN\n",
              "15616     60.0\n",
              "15617    120.0\n",
              "15618     90.0\n",
              "15619    240.0\n",
              "Name: CommuteTime, Length: 15620, dtype: float64"
            ]
          },
          "metadata": {},
          "execution_count": 29
        }
      ]
    },
    {
      "cell_type": "code",
      "source": [
        "#colunaCommuteTime = coluna_CommuteTime.value_counts()\n",
        "#colunaCommuteTime.plot.line()\n",
        "\n",
        "plt.style.use(\"ggplot\")\n",
        "plt.figure(figsize = (20, 12))\n",
        "df[\"CommuteTime\"].hist(bins = 40, ec = \"k\", alpha = .6, color = \"royalblue\")\n",
        "plt.title(\"CommuteTime\")\n"
      ],
      "metadata": {
        "colab": {
          "base_uri": "https://localhost:8080/",
          "height": 734
        },
        "id": "LxWAdL7U-yxE",
        "outputId": "bdac7c32-2712-4c19-b553-7c717df417a0"
      },
      "execution_count": 24,
      "outputs": [
        {
          "output_type": "execute_result",
          "data": {
            "text/plain": [
              "Text(0.5, 1.0, 'CommuteTime')"
            ]
          },
          "metadata": {},
          "execution_count": 24
        },
        {
          "output_type": "display_data",
          "data": {
            "image/png": "[encoded data removed]",
            "text/plain": [
              "<Figure size 1440x864 with 1 Axes>"
            ]
          },
          "metadata": {}
        }
      ]
    },
    {
      "cell_type": "code",
      "source": [
        "df.groupby(['CommuteTime']).CommuteTime.count().sort_values()[1:].plot(kind='bar')"
      ],
      "metadata": {
        "colab": {
          "base_uri": "https://localhost:8080/",
          "height": 315
        },
        "id": "9unP4n2n-BSC",
        "outputId": "a8d98a8c-da25-4967-b390-603f13b492c9"
      },
      "execution_count": 7,
      "outputs": [
        {
          "output_type": "execute_result",
          "data": {
            "text/plain": [
              "<matplotlib.axes._subplots.AxesSubplot at 0x7f9be627e090>"
            ]
          },
          "metadata": {},
          "execution_count": 7
        },
        {
          "output_type": "display_data",
          "data": {
            "image/png": "[encoded data removed]",
            "text/plain": [
              "<Figure size 432x288 with 1 Axes>"
            ]
          },
          "metadata": {
            "needs_background": "light"
          }
        }
      ]
    },
    {
      "cell_type": "code",
      "metadata": {
        "id": "rdtbSwiOCLjY",
        "colab": {
          "base_uri": "https://localhost:8080/"
        },
        "outputId": "35c62c8e-2919-4eae-c498-53943ddba739"
      },
      "source": [
        "#ExpectedEarning\n",
        "coluna_ExpectedEarning = df['ExpectedEarning']\n",
        "coluna_ExpectedEarning"
      ],
      "execution_count": null,
      "outputs": [
        {
          "output_type": "execute_result",
          "data": {
            "text/plain": [
              "0            NaN\n",
              "1        50000.0\n",
              "2            NaN\n",
              "3        65000.0\n",
              "4        45000.0\n",
              "          ...   \n",
              "15615        NaN\n",
              "15616    18000.0\n",
              "15617        NaN\n",
              "15618        NaN\n",
              "15619        NaN\n",
              "Name: ExpectedEarning, Length: 15620, dtype: float64"
            ]
          },
          "metadata": {},
          "execution_count": 42
        }
      ]
    },
    {
      "cell_type": "code",
      "source": [
        "colunaExpectedEarning = coluna_ExpectedEarning.value_counts()\n",
        "colunaExpectedEarning"
      ],
      "metadata": {
        "colab": {
          "base_uri": "https://localhost:8080/"
        },
        "id": "_HAXhGxttVD6",
        "outputId": "12e3a5d3-2934-4b5b-cf36-3f803141122c"
      },
      "execution_count": null,
      "outputs": [
        {
          "output_type": "execute_result",
          "data": {
            "text/plain": [
              "60000.0    795\n",
              "50000.0    766\n",
              "40000.0    464\n",
              "70000.0    409\n",
              "80000.0    316\n",
              "          ... \n",
              "39540.0      1\n",
              "83200.0      1\n",
              "42625.0      1\n",
              "37440.0      1\n",
              "6400.0       1\n",
              "Name: ExpectedEarning, Length: 193, dtype: int64"
            ]
          },
          "metadata": {},
          "execution_count": 44
        }
      ]
    },
    {
      "cell_type": "markdown",
      "source": [
        "# ExpectedEarning"
      ],
      "metadata": {
        "id": "Jl8NZuzgM-r0"
      }
    },
    {
      "cell_type": "code",
      "source": [
        "coluna_ExpectedEarning = df['ExpectedEarning']\n",
        "coluna_ExpectedEarning[0:20]\n"
      ],
      "metadata": {
        "colab": {
          "base_uri": "https://localhost:8080/"
        },
        "id": "s4JpVC_xNDZl",
        "outputId": "b7845dbb-2ad6-48dc-ecf3-e85c089705dd"
      },
      "execution_count": 18,
      "outputs": [
        {
          "output_type": "execute_result",
          "data": {
            "text/plain": [
              "0         NaN\n",
              "1     50000.0\n",
              "2         NaN\n",
              "3     65000.0\n",
              "4     45000.0\n",
              "5         NaN\n",
              "6         NaN\n",
              "7         NaN\n",
              "8         NaN\n",
              "9         NaN\n",
              "10        NaN\n",
              "11        NaN\n",
              "12        NaN\n",
              "13        NaN\n",
              "14        NaN\n",
              "15        NaN\n",
              "16        NaN\n",
              "17        NaN\n",
              "18        NaN\n",
              "19    75000.0\n",
              "Name: ExpectedEarning, dtype: float64"
            ]
          },
          "metadata": {},
          "execution_count": 18
        }
      ]
    },
    {
      "cell_type": "code",
      "source": [
        "plt.style.use(\"ggplot\")\n",
        "plt.figure(figsize = (20, 12))\n",
        "df[\"ExpectedEarning\"].hist(bins = 40, ec = \"k\", alpha = .6, color = \"royalblue\")\n",
        "plt.title(\"ExpectedEarning\")"
      ],
      "metadata": {
        "colab": {
          "base_uri": "https://localhost:8080/",
          "height": 734
        },
        "id": "J6dAncqZOIYt",
        "outputId": "e1c33086-3898-439e-fea5-973290340960"
      },
      "execution_count": 25,
      "outputs": [
        {
          "output_type": "execute_result",
          "data": {
            "text/plain": [
              "Text(0.5, 1.0, 'ExpectedEarning')"
            ]
          },
          "metadata": {},
          "execution_count": 25
        },
        {
          "output_type": "display_data",
          "data": {
            "image/png": "[encoded data removed]",
            "text/plain": [
              "<Figure size 1440x864 with 1 Axes>"
            ]
          },
          "metadata": {}
        }
      ]
    },
    {
      "cell_type": "markdown",
      "source": [
        "# HasDebt\n"
      ],
      "metadata": {
        "id": "Kxq9mTrMTtyA"
      }
    },
    {
      "cell_type": "code",
      "source": [
        "#HasDebt\n",
        "df_total = df[\"HasDebt\"] .sum()\n",
        "df_total"
      ],
      "metadata": {
        "colab": {
          "base_uri": "https://localhost:8080/"
        },
        "id": "XfpKrWqcTsVo",
        "outputId": "ca2f7c15-9f2a-4fef-d87e-b865c7352553"
      },
      "execution_count": 42,
      "outputs": [
        {
          "output_type": "execute_result",
          "data": {
            "text/plain": [
              "6406.0"
            ]
          },
          "metadata": {},
          "execution_count": 42
        }
      ]
    }
  ]
}