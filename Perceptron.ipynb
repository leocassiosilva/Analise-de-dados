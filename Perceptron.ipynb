{
  "nbformat": 4,
  "nbformat_minor": 0,
  "metadata": {
    "colab": {
      "name": "Perceptron.ipynb",
      "provenance": [],
      "authorship_tag": "ABX9TyMBaj1l7t4BrwfvT+MJnPR9",
      "include_colab_link": true
    },
    "kernelspec": {
      "name": "python3",
      "display_name": "Python 3"
    },
    "language_info": {
      "name": "python"
    }
  },
  "cells": [
    {
      "cell_type": "markdown",
      "metadata": {
        "id": "view-in-github",
        "colab_type": "text"
      },
      "source": [
        "<a href=\"https://colab.research.google.com/github/leocassiosilva/Analise-de-dados/blob/main/Perceptron.ipynb\" target=\"_parent\"><img src=\"https://colab.research.google.com/assets/colab-badge.svg\" alt=\"Open In Colab\"/></a>"
      ]
    },
    {
      "cell_type": "code",
      "execution_count": 83,
      "metadata": {
        "id": "1kKnGdqrW93J"
      },
      "outputs": [],
      "source": [
        "from matplotlib.colors import ListedColormap\n",
        "import matplotlib.pyplot as plt\n",
        "import numpy as np\n",
        "import pandas as pd\n",
        "from mlxtend.plotting import plot_decision_regions"
      ]
    },
    {
      "cell_type": "code",
      "source": [
        "class Perceptron:\n",
        "  def __init__(self, eta=0.01, n_iter=10):\n",
        "    self.eta =  eta\n",
        "    self.n_iter = n_iter \n",
        "  \n",
        "  def net_input(self, X):\n",
        "    return np.dot(X, self.w_[1:] + self.w_[0])\n",
        "\n",
        "  def predict (self, X):\n",
        "      return np.where(self.net_input(X) >= 0.0, 1, -1)\n",
        "    \n",
        "  def fit(self, X, y):\n",
        "    self.w_ = np.zeros(1 + X.shape[1])\n",
        "    self.errors_= []\n",
        "\n",
        "    for _ in range(self.n_iter):\n",
        "      errors = 0\n",
        "      for xi, target in zip(X,y):\n",
        "        update = self.eta * (target - self.predict(xi))\n",
        "        self.w_[1:] += update * xi\n",
        "        self.w_[0] += update\n",
        "        errors+= int(update != 0.0)\n",
        "      self.errors_.append(errors)"
      ],
      "metadata": {
        "id": "tLD0JC9KX0PN"
      },
      "execution_count": 84,
      "outputs": []
    },
    {
      "cell_type": "code",
      "source": [
        "df = pd.read_csv('https://archive.ics.uci.edu/ml/machine-learning-databases/iris/iris.data', header = None)\n",
        "\n",
        "df.tail()\n",
        "\n",
        "y = df.iloc[0:100, 4].values\n",
        "\n",
        "y = np.where(y == 'Iris-setosa',-1,1)\n",
        "\n",
        "X = df.iloc[0:100, [0,2]].values"
      ],
      "metadata": {
        "id": "-lt6vSUDZiX6"
      },
      "execution_count": 85,
      "outputs": []
    },
    {
      "cell_type": "code",
      "source": [
        "plt.scatter(X[:50, 0], X[:50, 1], color='red', marker='o', label='setosa')\n",
        "plt.scatter(X[50:100, 0], X[50:100, 1], color='blue', marker='x', label='versicolor')\n",
        "plt.xlabel('petal length')\n",
        "plt.ylabel('sepal length')\n",
        "plt.legend(loc='upper left')\n",
        "plt.show()"
      ],
      "metadata": {
        "id": "W2KQM1g9YMPZ",
        "colab": {
          "base_uri": "https://localhost:8080/",
          "height": 279
        },
        "outputId": "dd9d5692-07a1-480d-9a5e-6839e8bd144c"
      },
      "execution_count": 86,
      "outputs": [
        {
          "output_type": "display_data",
          "data": {
            "image/png": "[encoded data removed]",
            "text/plain": [
              "<Figure size 432x288 with 1 Axes>"
            ]
          },
          "metadata": {
            "needs_background": "light"
          }
        }
      ]
    },
    {
      "cell_type": "code",
      "source": [
        "ppn = Perceptron(eta=0.01, n_iter=10)\n",
        "ppn.fit(X, y)"
      ],
      "metadata": {
        "id": "fYDyjZCTd8Si"
      },
      "execution_count": 87,
      "outputs": []
    },
    {
      "cell_type": "code",
      "source": [
        "# def plot_decision_regions(X, y, classifier, resolution=0.02):\n",
        "#   markers = ('s', 'x','o','^','v')\n",
        "#   colors = ('red', 'blue','lightgreen','gray','cyan')\n",
        "#   cmap = ListedColormap(colors[:len(np.unique(y))])\n",
        "\n",
        "#   x1_min, x1_max = X[:,0].min() - 1, X[:,0].max() + 1\n",
        "#   x2_min, x2_max = X[:,1].min() - 1, X[:,1].max() + 1\n",
        "  \n",
        "#   xx1,xx2 = np.meshgrid(np.arange(x1_min, x1_max, resolution), np.arange(x2_min, x2_max, resolution))\n",
        "#   Z = classifier.predict(np.array[xx1.ravel(), xx2.ravel()].T)\n",
        "#   Z  = Z.reshape(xx1.shape)\n",
        "#   plt.contourf(xx1,xx2, Z, alpha=0.4, cmap=cmap)\n",
        "#   for idx, cl in enumerate(np.unique(y)):\n",
        "#     plt.scatter(x=X[y == cl, 0], y=X[y==cl,1], alpha=0.8, c=cmap(idx), marker=markers[idx], label=cl)"
      ],
      "metadata": {
        "id": "xL0z7JZ4iRgb"
      },
      "execution_count": 73,
      "outputs": []
    },
    {
      "cell_type": "code",
      "source": [
        "# # Classificação (Apenas para gráficos 2D)\n",
        "plot_decision_regions(X, y, clf = ppn)\n",
        "plt.title('Perceptron')\n",
        "plt.xlabel('sepal comprimento [cm]')\n",
        "plt.ylabel('petal comprimento [cm]')\n",
        "plt.show()"
      ],
      "metadata": {
        "colab": {
          "base_uri": "https://localhost:8080/",
          "height": 350
        },
        "id": "iIUdBpWkoHjF",
        "outputId": "33a2e3f9-d69d-4aaa-e40d-d6e07d8ee838"
      },
      "execution_count": 88,
      "outputs": [
        {
          "output_type": "stream",
          "name": "stderr",
          "text": [
            "/usr/local/lib/python3.7/dist-packages/mlxtend/plotting/decision_regions.py:244: MatplotlibDeprecationWarning: Passing unsupported keyword arguments to axis() will raise a TypeError in 3.3.\n",
            "  ax.axis(xmin=xx.min(), xmax=xx.max(), y_min=yy.min(), y_max=yy.max())\n"
          ]
        },
        {
          "output_type": "display_data",
          "data": {
            "image/png": "[encoded data removed]",
            "text/plain": [
              "<Figure size 432x288 with 1 Axes>"
            ]
          },
          "metadata": {
            "needs_background": "light"
          }
        }
      ]
    }
  ]
}